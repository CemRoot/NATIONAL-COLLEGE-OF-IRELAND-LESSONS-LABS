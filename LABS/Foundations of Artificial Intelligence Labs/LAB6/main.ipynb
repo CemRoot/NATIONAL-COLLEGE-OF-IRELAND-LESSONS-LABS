{
 "cells": [
  {
   "metadata": {},
   "cell_type": "markdown",
   "source": [
    "# 1. NLTK Kütüphanesi ile Çalışma\n",
    "* NLTK, Python'da yaygın olarak kullanılan güçlü bir doğal dil işleme kütüphanesidir. WordNet ise İngilizce kelimelerin anlamlarını, eş anlamlarını, türlerini ve kullanım örneklerini içeren geniş bir veritabanıdır.\n",
    "\n",
    "Dosyadaki ilk kod bloğu NLTK kütüphanesi ile WordNet'i indirme işlemi:"
   ]
  },
  {
   "cell_type": "code",
   "metadata": {
    "ExecuteTime": {
     "end_time": "2024-10-24T12:14:31.603615Z",
     "start_time": "2024-10-24T12:14:31.575248Z"
    }
   },
   "source": [
    "import nltk\n",
    "\n",
    "nltk.download(\"wordnet\")\n",
    "\"\"\"\n",
    "Bu kod, NLTK'yi kullanarak WordNet veritabanını indiriyor. WordNet, kelimelerin eş anlamlarını, anlam kümelerini (synsets), kullanım örneklerini ve dil bilgisel (gramatikal) özelliklerini içeren bir veritabanıdır. Kelimelerin farklı bağlamlarda nasıl kullanıldığını görmek için bu veritabanı kullanılır.\n",
    "\"\"\""
   ],
   "outputs": [
    {
     "name": "stderr",
     "output_type": "stream",
     "text": [
      "[nltk_data] Downloading package wordnet to\n",
      "[nltk_data]     C:\\Users\\eminc\\AppData\\Roaming\\nltk_data...\n",
      "[nltk_data]   Package wordnet is already up-to-date!\n"
     ]
    },
    {
     "data": {
      "text/plain": [
       "\"\\nBu kod, NLTK'yi kullanarak WordNet veritabanını indiriyor. WordNet, kelimelerin eş anlamlarını, anlam kümelerini (synsets), kullanım örneklerini ve dil bilgisel (gramatikal) özelliklerini içeren bir veritabanıdır. Kelimelerin farklı bağlamlarda nasıl kullanıldığını görmek için bu veritabanı kullanılır.\\n\""
      ]
     },
     "execution_count": 2,
     "metadata": {},
     "output_type": "execute_result"
    }
   ],
   "execution_count": 2
  },
  {
   "metadata": {},
   "cell_type": "markdown",
   "source": [
    "# 2. WordNet Synsets (Anlam Kümeleri)\n",
    "Bir sonraki adımda, \"bank\" kelimesi için synsets yani anlam kümelerini alıyoruz.\n",
    "bir kelimenin birden fazla anlamı olabilir. Örneğin, \"bank\" kelimesi hem bir finansal kurumu hem de bir nehir kenarındaki yükseltiyi ifade edebilir. Bu durumda, \"bank\" kelimesi için iki farklı anlam kümesi olacaktır."
   ]
  },
  {
   "cell_type": "code",
   "metadata": {
    "ExecuteTime": {
     "end_time": "2024-10-24T12:16:26.833690Z",
     "start_time": "2024-10-24T12:16:26.825226Z"
    }
   },
   "source": [
    "from nltk.corpus import wordnet\n",
    "\n",
    "# Get the synsets for the word \"bank\"\n",
    "synsets = wordnet.synsets(\"bank\")\n",
    "\"\"\"\n",
    "Bu adımda ne yapıyoruz?\n",
    "\n",
    "wordnet.synsets() fonksiyonunu kullanarak, \"bank\" kelimesinin WordNet'teki anlam kümelerini (synsets) alıyoruz.\n",
    "Bir kelimenin farklı anlamları olabilir (örneğin \"bank\" kelimesi hem finansal kurum anlamına gelir hem de nehir kıyısı anlamında kullanılır). Bu synsets yapıları, kelimenin her anlamını ayrı bir kümeye ayırır.\n",
    "\n",
    "Neden bu kullanılıyor?\n",
    "\n",
    "Bir kelimenin birçok farklı anlamı olabilir ve bu anlamlar kelimenin bağlamına göre değişir. Synsets, kelimenin her bir anlamını ayrı bir küme olarak tanımlar. Bu sayede, kelimenin farklı anlamlarını ve bu anlamların kullanım örneklerini görebiliriz.\n",
    "\"\"\""
   ],
   "outputs": [
    {
     "data": {
      "text/plain": [
       "'\\nBu adımda ne yapıyoruz?\\n\\nwordnet.synsets() fonksiyonunu kullanarak, \"bank\" kelimesinin WordNet\\'teki anlam kümelerini (synsets) alıyoruz.\\nBir kelimenin farklı anlamları olabilir (örneğin \"bank\" kelimesi hem finansal kurum anlamına gelir hem de nehir kıyısı anlamında kullanılır). Bu synsets yapıları, kelimenin her anlamını ayrı bir kümeye ayırır.\\n'"
      ]
     },
     "execution_count": 4,
     "metadata": {},
     "output_type": "execute_result"
    }
   ],
   "execution_count": 4
  },
  {
   "metadata": {},
   "cell_type": "markdown",
   "source": [
    "# 3. Synset Detaylarının İncelenmesi\n",
    "Kodun bir sonraki bölümünde, bu synset'ler üzerinde inceleme yapıyoruz:"
   ]
  },
  {
   "cell_type": "code",
   "metadata": {
    "ExecuteTime": {
     "end_time": "2024-10-24T12:18:50.070929Z",
     "start_time": "2024-10-24T12:18:50.064021Z"
    }
   },
   "source": [
    "for synset in synsets:\n",
    "    print(synset)\n",
    "\"\"\"\n",
    " Bu kod, \"bank\" kelimesinin WordNet’teki tüm anlam kümelerini listeliyor. Örneğin, \"bank\" kelimesinin finansal anlamı veya doğada bir nehir kıyısını ifade eden anlamı gibi farklı anlamları bu synset'lerde tanımlanmış olabilir.\n",
    "\"\"\""
   ],
   "outputs": [
    {
     "name": "stdout",
     "output_type": "stream",
     "text": [
      "Synset('bank.n.01')\n",
      "Synset('depository_financial_institution.n.01')\n",
      "Synset('bank.n.03')\n",
      "Synset('bank.n.04')\n",
      "Synset('bank.n.05')\n",
      "Synset('bank.n.06')\n",
      "Synset('bank.n.07')\n",
      "Synset('savings_bank.n.02')\n",
      "Synset('bank.n.09')\n",
      "Synset('bank.n.10')\n",
      "Synset('bank.v.01')\n",
      "Synset('bank.v.02')\n",
      "Synset('bank.v.03')\n",
      "Synset('bank.v.04')\n",
      "Synset('bank.v.05')\n",
      "Synset('deposit.v.02')\n",
      "Synset('bank.v.07')\n",
      "Synset('trust.v.01')\n"
     ]
    },
    {
     "data": {
      "text/plain": [
       "'\\n Bu kod, \"bank\" kelimesinin WordNet’teki tüm anlam kümelerini listeliyor. Örneğin, \"bank\" kelimesinin finansal anlamı veya doğada bir nehir kıyısını ifade eden anlamı gibi farklı anlamları bu synset\\'lerde tanımlanmış olabilir.\\n'"
      ]
     },
     "execution_count": 7,
     "metadata": {},
     "output_type": "execute_result"
    }
   ],
   "execution_count": 7
  },
  {
   "metadata": {},
   "cell_type": "markdown",
   "source": [
    "# Bu kod ne yapıyor?\n",
    "\n",
    "* first_synset.name(): Kelimenin synset'teki adını getirir (örneğin, \"bank.n.01\" gibi, burada \"n\" isim olduğunu, \"01\" ise birinci anlam olduğunu gösterir).\n",
    "* first_synset.pos(): Kelimenin türünü (Part of Speech - POS) gösterir, yani isim, fiil, sıfat gibi bir dil bilgisel kategori olup olmadığını belirtir.\n",
    "* first_synset.definition(): Kelimenin bu synset'teki tanımını getirir.\n",
    "* first_synset.examples(): Bu anlamda kelimenin kullanım örneklerini getirir."
   ]
  },
  {
   "cell_type": "code",
   "metadata": {
    "ExecuteTime": {
     "end_time": "2024-10-24T12:21:14.797690Z",
     "start_time": "2024-10-24T12:21:14.791986Z"
    }
   },
   "source": [
    "first_synset = synsets[1]\n",
    "# Synset name\n",
    "print(\"Name:\", first_synset.name())\n",
    "# Part of Speech\n",
    "print(\"POS:\", first_synset.pos())\n",
    "# Definition of the word   \n",
    "print(\"Definition:\", first_synset.definition())\n",
    "# Example usage\n",
    "print(\"Examples:\", first_synset.examples())"
   ],
   "outputs": [
    {
     "name": "stdout",
     "output_type": "stream",
     "text": [
      "Name: depository_financial_institution.n.01\n",
      "POS: n\n",
      "Definition: a financial institution that accepts deposits and channels the money into lending activities\n",
      "Examples: ['he cashed a check at the bank', 'that bank holds the mortgage on my home']\n"
     ]
    }
   ],
   "execution_count": 9
  },
  {
   "metadata": {},
   "cell_type": "markdown",
   "source": [
    "# 4. Lemmas (Kelime Kökleri)\n",
    "Son olarak, belirli bir synset için eş anlamlı kelimelerin (lemmas) listesini alıyoruz."
   ]
  },
  {
   "cell_type": "code",
   "metadata": {
    "ExecuteTime": {
     "end_time": "2024-10-24T12:22:30.531263Z",
     "start_time": "2024-10-24T12:22:30.525749Z"
    }
   },
   "source": [
    "# lemmas are actual words that can express the meaning represented by the synset\n",
    "lemmas = first_synset.lemmas()\n",
    "for lemma in lemmas:\n",
    "    print(lemma.name())"
   ],
   "outputs": [
    {
     "name": "stdout",
     "output_type": "stream",
     "text": [
      "depository_financial_institution\n",
      "bank\n",
      "banking_concern\n",
      "banking_company\n"
     ]
    }
   ],
   "execution_count": 10
  },
  {
   "metadata": {},
   "cell_type": "markdown",
   "source": [
    "# Lemmas nedir?\n",
    "\n",
    "* Lemma, bir kelimenin sözlük biçimi veya köküdür. Örneğin, \"run\" kelimesi için \"running\", \"ran\" gibi farklı biçimler olabilir ancak hepsi aynı lemma'dan türemiştir.\n",
    "Burada synset içinde aynı anlama gelen kelimeleri listeliyoruz (örneğin, \"bank\" ve \"depository financial institution\" aynı synset'te olabilir)."
   ]
  }
 ],
 "metadata": {
  "kernelspec": {
   "display_name": "base",
   "language": "python",
   "name": "python3"
  },
  "language_info": {
   "codemirror_mode": {
    "name": "ipython",
    "version": 3
   },
   "file_extension": ".py",
   "mimetype": "text/x-python",
   "name": "python",
   "nbconvert_exporter": "python",
   "pygments_lexer": "ipython3",
   "version": "3.11.4"
  }
 },
 "nbformat": 4,
 "nbformat_minor": 2
}
