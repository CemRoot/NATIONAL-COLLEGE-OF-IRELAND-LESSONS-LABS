{
 "cells": [
  {
   "cell_type": "code",
   "metadata": {},
   "source": [
    "# pip install rdflib"
   ],
   "outputs": [],
   "execution_count": null
  },
  {
   "metadata": {},
   "cell_type": "markdown",
   "source": [
    "# RDF (Resource Description Framework) ile Çalışmak\n",
    "\n",
    "`rdflib`, RDF veri formatında bilgileri yönetmek için kullanılan güçlü bir Python kütüphanesidir. RDF, verilerin üçlüler halinde (subject-predicate-object) saklanmasını sağlar. Bu, özellikle bilgi grafikleri veya ontolojiler oluştururken çok kullanışlıdır. RDF formatı, Linked Data ve Semantic Web gibi kavramların temelini oluşturur.\n",
    "\n",
    "## Alternatif Yöntemler\n",
    "\n",
    "RDF ile çalışmak için başka kütüphaneler de kullanılabilir, örneğin Apache Jena. Ancak Python'da genellikle `rdflib` en yaygın tercih edilenidir. `rdflib`, Python 2 ve Python 3 sürümlerinde kullanılabilir ve geniş bir topluluk tarafından desteklenir."
   ]
  },
  {
   "cell_type": "code",
   "metadata": {
    "ExecuteTime": {
     "end_time": "2024-10-24T11:48:10.786120Z",
     "start_time": "2024-10-24T11:48:10.783421Z"
    }
   },
   "source": [
    "# b. Graph Nesnesi ve Namespace Tanımlaması\n",
    "# Aşağıdaki kod ile bir RDF grafiği oluşturuluyor:\n",
    "from rdflib import Graph, URIRef, Literal, Namespace\n"
   ],
   "outputs": [],
   "execution_count": 21
  },
  {
   "cell_type": "code",
   "metadata": {
    "ExecuteTime": {
     "end_time": "2024-10-24T11:48:09.917490Z",
     "start_time": "2024-10-24T11:48:09.911294Z"
    }
   },
   "source": [
    "# Create a new RDF graph\n",
    "g = Graph()\n",
    "\"\"\"\n",
    "Burada Graph() fonksiyonu ile yeni bir RDF grafiği oluşturuluyor. Bu, RDF üçlülerinin saklanacağı yerdir.\n",
    "\n",
    "Namespace ise RDF içerisinde kullanılan verilerin anlaşılabilir bir biçimde organize edilmesi için kullanılıyor\n",
    "\"\"\""
   ],
   "outputs": [
    {
     "data": {
      "text/plain": [
       "'\\nBurada Graph() fonksiyonu ile yeni bir RDF grafiği oluşturuluyor. Bu, RDF üçlülerinin saklanacağı yerdir.\\n\\nNamespace ise RDF içerisinde kullanılan verilerin anlaşılabilir bir biçimde organize edilmesi için kullanılıyor\\n'"
      ]
     },
     "execution_count": 20,
     "metadata": {},
     "output_type": "execute_result"
    }
   ],
   "execution_count": 20
  },
  {
   "cell_type": "code",
   "metadata": {
    "ExecuteTime": {
     "end_time": "2024-10-24T11:48:08.519391Z",
     "start_time": "2024-10-24T11:48:08.515003Z"
    }
   },
   "source": [
    "# Define a namespace for your entities\n",
    "EX = Namespace(\"http://ncirl.ie/\")\n",
    "\n",
    "# Bind the namespace prefix (optional but useful for readability)\n",
    "g.bind(\"ex\", EX)\n",
    "# bind nedir? Namespace ve prefix arasında bir ilişki kurar. Bu, RDF grafiğindeki verileri daha okunabilir hale getirir.\n",
    "# Namespace kavramı, RDF grafiği içindeki verilerin belirli bir URL alanına ait olduğunu belirtir. Burada \"http://ncirl.ie/\" alan adı bir örnek olarak kullanılıyor."
   ],
   "outputs": [],
   "execution_count": 19
  },
  {
   "cell_type": "code",
   "metadata": {
    "ExecuteTime": {
     "end_time": "2024-10-24T11:48:03.905632Z",
     "start_time": "2024-10-24T11:48:03.898338Z"
    }
   },
   "source": [
    "\"\"\"c. Üçlülerin Eklenmesi\n",
    "RDF'nin temeli, \"subject\", \"predicate\" ve \"object\" şeklinde organize edilen üçlülerdir:\n",
    "\"\"\"\n",
    "#Add Triples to the Knowledge Graph\n",
    "\n",
    "# Define some entities (subjects and objects)\n",
    "person1 = URIRef(EX[\"John_Doe\"])\n",
    "person2 = URIRef(EX[\"Jane_Smith\"])\n",
    "organization = URIRef(EX[\"My_Company\"])\n",
    "\n",
    "# Add properties (predicates)\n",
    "works_for = URIRef(EX[\"works_for\"])\n",
    "has_age = URIRef(EX[\"has_age\"])\n",
    "\n",
    "# Add triples to the graph (subject, predicate, object)\n",
    "g.add((person1, works_for, organization))  # John Doe works for Example Company\n",
    "g.add((person2, works_for, organization))  # Jane Smith works for Example Company\n",
    "g.add((person1, has_age, Literal(29)))  # John Doe has age 29\n",
    "g.add((person2, has_age, Literal(32)))  # Jane Smith has age 32\n",
    "\n",
    "\"\"\"URIRef: Bu fonksiyon, RDF'nin öznesi veya nesnesi olan varlıkları tanımlamak için kullanılır. Her bir varlık, bir URI (Uniform Resource Identifier) ile tanımlanır. Örneğin, \"John_Doe\" bir URI olarak temsil ediliyor.\n",
    "\n",
    "Literal: Sayısal değerler veya dizeler gibi RDF'de kullanılan diğer veriler için kullanılır. Örneğin, \"29\" bir Literal olarak tanımlanmış.\n",
    "\"\"\""
   ],
   "outputs": [
    {
     "data": {
      "text/plain": [
       "'URIRef: Bu fonksiyon, RDF\\'nin öznesi veya nesnesi olan varlıkları tanımlamak için kullanılır. Her bir varlık, bir URI (Uniform Resource Identifier) ile tanımlanır. Örneğin, \"John_Doe\" bir URI olarak temsil ediliyor.\\n\\nLiteral: Sayısal değerler veya dizeler gibi RDF\\'de kullanılan diğer veriler için kullanılır. Örneğin, \"29\" bir Literal olarak tanımlanmış.\\n'"
      ]
     },
     "execution_count": 18,
     "metadata": {},
     "output_type": "execute_result"
    }
   ],
   "execution_count": 18
  },
  {
   "metadata": {},
   "cell_type": "markdown",
   "source": [
    "# SPARQL ile RDF Verileri Üzerinde Sorgulamalar\n",
    "\n",
    "SPARQL (SPARQL Protocol and RDF Query Language), RDF verilerini sorgulamak için kullanılan bir sorgu dilidir. SQL'ye benzer bir yapısı vardır ancak RDF’nin üçlü yapısına uyacak şekilde tasarlanmıştır. SPARQL, RDF grafiğindeki verileri seçmek, düzenlemek, güncellemek ve silmek için kullanılabilir.\n",
    "\n",
    "## SPARQL Nedir?\n",
    "\n",
    "SPARQL, RDF veri kümeleri üzerinde sorgulama yapmak için geliştirilmiş bir dildir. RDF'nin üçlü yapısına uygun olarak tasarlanmıştır ve RDF grafiğindeki verileri seçmek, düzenlemek, güncellemek ve silmek için kullanılabilir.\n",
    "\n",
    "## SPARQL Sorgu Örneği: Verileri Çekmek\n",
    "\n",
    "Önceden eklediğimiz RDF grafiğimiz üzerinde SPARQL kullanarak sorgu yapmaya bakalım. Aşağıdaki örnekte, RDF grafiğimizden belirli verileri sorgulamak için `rdflib` kütüphanesi içindeki SPARQL sorgulama mekanizmasını kullanacağız.\n",
    "\n",
    "### Adım 1: RDF Grafiğini Oluşturma\n",
    "\n",
    "Öncelikle, RDF grafiğimizi oluşturuyoruz ve bazı üçlüler ekliyoruz."
   ]
  },
  {
   "cell_type": "code",
   "metadata": {
    "ExecuteTime": {
     "end_time": "2024-10-24T11:47:55.977133Z",
     "start_time": "2024-10-24T11:47:55.972524Z"
    }
   },
   "source": [
    "# Serialize the graph in Turtle format\n",
    "# You can serialize (save) the graph in different formats such as Turtle (TTL), XML, or N-Triples (NT).\n",
    "print(g.serialize(format=\"xml\"))\n",
    "# Burada serialize fonksiyonu, RDF grafiğini belirtilen formatta (örneğin, XML) serileştirir. Bu, verileri bir dosyaya veya ağ üzerindeki bir hedefe kaydetmek için kullanılabilir.\n",
    "# amaç? Ve nerede işimize yarar? Verileri bir dosyaya veya ağ üzerindeki bir hedefe kaydetmek için kullanılabilir. Örneğin, bir bilgi grafiğini bir dosyaya kaydedebilir ve daha sonra başka bir uygulamada kullanabilirsiniz."
   ],
   "outputs": [
    {
     "name": "stdout",
     "output_type": "stream",
     "text": [
      "<?xml version=\"1.0\" encoding=\"utf-8\"?>\n",
      "<rdf:RDF\n",
      "   xmlns:ex=\"http://ncirl.ie/\"\n",
      "   xmlns:rdf=\"http://www.w3.org/1999/02/22-rdf-syntax-ns#\"\n",
      ">\n",
      "  <rdf:Description rdf:about=\"http://ncirl.ie/John_Doe\">\n",
      "    <ex:works_for rdf:resource=\"http://ncirl.ie/My_Company\"/>\n",
      "    <ex:has_age rdf:datatype=\"http://www.w3.org/2001/XMLSchema#integer\">29</ex:has_age>\n",
      "  </rdf:Description>\n",
      "  <rdf:Description rdf:about=\"http://ncirl.ie/Jane_Smith\">\n",
      "    <ex:works_for rdf:resource=\"http://ncirl.ie/My_Company\"/>\n",
      "    <ex:has_age rdf:datatype=\"http://www.w3.org/2001/XMLSchema#integer\">32</ex:has_age>\n",
      "  </rdf:Description>\n",
      "</rdf:RDF>\n",
      "\n"
     ]
    }
   ],
   "execution_count": 16
  },
  {
   "metadata": {},
   "cell_type": "markdown",
   "source": [
    "# Adım 2: SPARQL Sorgusu Yazma\n",
    "* Şimdi, RDF grafiğimizden belirli verileri sorgulamak için bir SPARQL sorgusu yazalım. Bu örnekte, \"Example Company\" için çalışan tüm kişileri bulacağız."
   ]
  },
  {
   "cell_type": "code",
   "metadata": {
    "ExecuteTime": {
     "end_time": "2024-10-24T11:47:43.062248Z",
     "start_time": "2024-10-24T11:47:42.933497Z"
    }
   },
   "source": [
    "from rdflib.plugins.sparql import prepareQuery\n"
   ],
   "outputs": [],
   "execution_count": 11
  },
  {
   "cell_type": "code",
   "metadata": {
    "ExecuteTime": {
     "end_time": "2024-10-24T11:47:44.957888Z",
     "start_time": "2024-10-24T11:47:44.899909Z"
    }
   },
   "source": [
    "# Write a SPARQL query to find all people who work for Example Company\n",
    "q = prepareQuery('''\n",
    "  SELECT ?person\n",
    "  WHERE {\n",
    "    ?person ex:works_for ex:My_Company .\n",
    "  }\n",
    "''', initNs={\"ex\": EX})"
   ],
   "outputs": [],
   "execution_count": 12
  },
  {
   "metadata": {},
   "cell_type": "markdown",
   "source": [
    "# Adım 3: Sorguyu Çalıştırma ve Sonuçları Yazdırma\n",
    "* Son olarak, sorguyu çalıştırıp sonuçları yazdıralım."
   ]
  },
  {
   "cell_type": "code",
   "metadata": {
    "ExecuteTime": {
     "end_time": "2024-10-24T11:47:46.150941Z",
     "start_time": "2024-10-24T11:47:46.143834Z"
    }
   },
   "source": [
    "# Save the graph to a Turtle file\n",
    "g.serialize(destination=\"knowledge_graph.ttl\", format=\"xml\")"
   ],
   "outputs": [
    {
     "data": {
      "text/plain": [
       "<Graph identifier=N62ee9d5f0c424c40bd3bac6813b411a7 (<class 'rdflib.graph.Graph'>)>"
      ]
     },
     "execution_count": 13,
     "metadata": {},
     "output_type": "execute_result"
    }
   ],
   "execution_count": 13
  },
  {
   "cell_type": "code",
   "metadata": {
    "ExecuteTime": {
     "end_time": "2024-10-24T11:47:48.966675Z",
     "start_time": "2024-10-24T11:47:48.949505Z"
    }
   },
   "source": [
    "# Create a new graph\n",
    "newg = Graph()\n",
    "\n",
    "# Load the Turtle file into the graph\n",
    "newg.parse(\"knowledge_graph.ttl\", format=\"xml\")"
   ],
   "outputs": [
    {
     "data": {
      "text/plain": [
       "<Graph identifier=Nfb7564da13f947c388a8d0e3cd9a251b (<class 'rdflib.graph.Graph'>)>"
      ]
     },
     "execution_count": 14,
     "metadata": {},
     "output_type": "execute_result"
    }
   ],
   "execution_count": 14
  },
  {
   "cell_type": "code",
   "metadata": {
    "ExecuteTime": {
     "end_time": "2024-10-24T11:47:52.573815Z",
     "start_time": "2024-10-24T11:47:52.568043Z"
    }
   },
   "source": [
    "# Execute the query and print the results\n",
    "for row in newg.query(q):\n",
    "    print(row)"
   ],
   "outputs": [
    {
     "name": "stdout",
     "output_type": "stream",
     "text": [
      "(rdflib.term.URIRef('http://ncirl.ie/John_Doe'),)\n",
      "(rdflib.term.URIRef('http://ncirl.ie/Jane_Smith'),)\n"
     ]
    }
   ],
   "execution_count": 15
  }
 ],
 "metadata": {
  "kernelspec": {
   "display_name": "base",
   "language": "python",
   "name": "python3"
  },
  "language_info": {
   "codemirror_mode": {
    "name": "ipython",
    "version": 3
   },
   "file_extension": ".py",
   "mimetype": "text/x-python",
   "name": "python",
   "nbconvert_exporter": "python",
   "pygments_lexer": "ipython3",
   "version": "3.11.4"
  }
 },
 "nbformat": 4,
 "nbformat_minor": 2
}
