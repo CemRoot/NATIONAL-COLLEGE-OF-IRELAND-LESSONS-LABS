{
 "cells": [
  {
   "metadata": {},
   "cell_type": "markdown",
   "source": [
    "# Yapay Sinir Ağları ile Basit Bir Regresyon Modeli Oluşturma\n",
    "Bu çalışmada, Keras ve TensorFlow kullanarak basit bir yapay sinir ağı modeli oluşturacağız. Amacımız, iki giriş değişkenine dayalı olarak bir hedef değişkeni tahmin etmektir. Adım adım ilerleyerek her kod bloğunun işlevini açıklayacağız."
   ],
   "id": "26cec23035d283e3"
  },
  {
   "metadata": {},
   "cell_type": "markdown",
   "source": [
    "# 1. Gerekli Kütüphanelerin İçe Aktarılması\n",
    "İlk adım olarak, proje boyunca kullanacağımız kütüphaneleri içe aktaralım:"
   ],
   "id": "7985af65035d25b5"
  },
  {
   "metadata": {},
   "cell_type": "code",
   "outputs": [],
   "execution_count": null,
   "source": [
    "import numpy as np\n",
    "import pandas as pd\n",
    "import tensorflow as tf\n",
    "from keras.models import Sequential\n",
    "from keras.layers import Dense, InputLayer\n",
    "from sklearn.model_selection import train_test_split\n"
   ],
   "id": "d260403be02d8cd9"
  },
  {
   "metadata": {},
   "cell_type": "markdown",
   "source": [
    "## Açıklama:\n",
    "\n",
    "* numpy: Sayısal hesaplamalar için kullanılır.\n",
    "* pandas: Veri manipülasyonu ve analizi sağlar.\n",
    "* tensorflow ve keras: Derin öğrenme modellerini oluşturmak için kullanılır.\n",
    "* train_test_split: Veriyi eğitim ve test olarak ayırmamıza yardımcı olur."
   ],
   "id": "d78ee2282bb201d2"
  },
  {
   "metadata": {},
   "cell_type": "markdown",
   "source": [
    "# 2. Modeli Görselleştirme Kütüphanesi\n",
    "Model yapısını görselleştirmek için Keras'ın plot fonksiyonunu kullanacağız:"
   ],
   "id": "90ffcbce09f97188"
  },
  {
   "metadata": {
    "ExecuteTime": {
     "end_time": "2024-10-17T12:19:21.525375Z",
     "start_time": "2024-10-17T12:19:13.104097Z"
    }
   },
   "cell_type": "code",
   "source": "from keras.utils import plot_model",
   "id": "f3a4961f58cf3bf8",
   "outputs": [],
   "execution_count": 6
  },
  {
   "metadata": {},
   "cell_type": "markdown",
   "source": [
    "# 3. Veri Setinin Yüklenmesi   \n",
    "Bu adımda, modelimizi eğitmek için kullanacağımız veri setini yükleyeceğiz. Bu çalışmada, basit bir regresyon modeli oluşturacağımız için, veri setimizde iki giriş değişkeni ve bir hedef değişken bulunmaktadır. Veri setini yükleyelim ve ilk beş gözlemi görüntüleyelim: "
   ],
   "id": "29c4f3dc06bd9253"
  },
  {
   "metadata": {},
   "cell_type": "code",
   "outputs": [],
   "execution_count": null,
   "source": [
    "my_data = {\n",
    "    'x1': [1,2,3,4,5,6,7,8,9,10,11,12,13,14,15,16,17,18,19,20],\n",
    "    'x2': [1,2,3,4,5,6,7,8,9,10,11,12,13,14,15,16,17,18,19,20],\n",
    "    'y':  [2,4,6,8,10,12,14,16,18,20,22,24,26,28,30,32,34,36,38,40]\n",
    "}\n"
   ],
   "id": "4b27c07afda749df"
  },
  {
   "metadata": {},
   "cell_type": "markdown",
   "source": [
    "# 4. Veri Setinin DataFrame'e Dönüştürülmesi\n",
    "Veriyi pandas DataFrame formatına çevirelim:"
   ],
   "id": "1a1e705c54d1ccf6"
  },
  {
   "metadata": {},
   "cell_type": "code",
   "outputs": [],
   "execution_count": null,
   "source": "df = pd.DataFrame(my_data)",
   "id": "e337703352b2cac4"
  },
  {
   "metadata": {},
   "cell_type": "markdown",
   "source": [
    "# 5. Veri Setinin İlk Satırlarının Görüntülenmesi\n",
    "Veri setini kontrol edelim:"
   ],
   "id": "e8ec7a532454581d"
  },
  {
   "metadata": {},
   "cell_type": "code",
   "outputs": [],
   "execution_count": null,
   "source": "df.head()",
   "id": "8719b1007d8bce72"
  },
  {
   "metadata": {},
   "cell_type": "markdown",
   "source": [
    "# 6. Giriş ve Çıkış Değişkenlerinin Ayrılması\n",
    "Giriş ve hedef değişkenlerini ayıralım:"
   ],
   "id": "1d4cdef089d5bc36"
  },
  {
   "metadata": {},
   "cell_type": "code",
   "outputs": [],
   "execution_count": null,
   "source": [
    "X = df[['x1', 'x2']]\n",
    "y = df['y']"
   ],
   "id": "d0d331d9f5f8acff"
  },
  {
   "metadata": {},
   "cell_type": "markdown",
   "source": [
    "# 7. Veri Setinin Eğitim ve Test Olarak Bölünmesi\n",
    "Veri setini eğitim ve test setlerine ayırıyoruz:"
   ],
   "id": "73bd4d1252a4ab0f"
  },
  {
   "metadata": {},
   "cell_type": "code",
   "outputs": [],
   "execution_count": null,
   "source": "X_train, X_test, y_train, y_test = train_test_split(X, y, test_size=0.1, random_state=42)",
   "id": "8d366d12e0f67133"
  },
  {
   "metadata": {},
   "cell_type": "markdown",
   "source": [
    "# 8. Yapay Sinir Ağı Modelinin Oluşturulması\n",
    "a. Modelin Başlatılması\n",
    "Keras'ın Sequential API'si ile modelimizi oluşturalım:"
   ],
   "id": "47253138d048479b"
  },
  {
   "metadata": {},
   "cell_type": "code",
   "outputs": [],
   "execution_count": null,
   "source": "model = Sequential()",
   "id": "2860e2c07a0f0952"
  },
  {
   "metadata": {},
   "cell_type": "markdown",
   "source": [
    "b. Giriş Katmanının Eklenmesi\n",
    "İki giriş değişkenimiz olduğu için 2 boyutlu bir giriş katmanı ekliyoruz:"
   ],
   "id": "d504c0fdb18012c2"
  },
  {
   "metadata": {},
   "cell_type": "code",
   "outputs": [],
   "execution_count": null,
   "source": "model.add(InputLayer(input_shape=(2,), name=\"first_input_layer\"))",
   "id": "5f28f134527bd967"
  },
  {
   "metadata": {},
   "cell_type": "markdown",
   "source": [
    "# c. Gizli Katmanların Eklenmesi\n",
    "İki tane gizli katman ekleyelim:"
   ],
   "id": "c4e85f7745e7afbc"
  },
  {
   "metadata": {},
   "cell_type": "code",
   "outputs": [],
   "execution_count": null,
   "source": [
    "# İlk gizli katman (6 nöronlu)\n",
    "model.add(Dense(6, activation='relu'))\n",
    "\n",
    "# İkinci gizli katman (6 nöronlu)\n",
    "model.add(Dense(6, activation='relu'))"
   ],
   "id": "85c57583091a7c62"
  },
  {
   "metadata": {},
   "cell_type": "markdown",
   "source": [
    "d. Çıkış Katmanının Eklenmesi\n",
    "Regresyon problemi olduğu için çıkış katmanında tek nöron kullanıyoruz:"
   ],
   "id": "7cf6aaa640daa593"
  },
  {
   "metadata": {
    "ExecuteTime": {
     "end_time": "2024-10-17T12:25:47.664008Z",
     "start_time": "2024-10-17T12:25:45.247955Z"
    }
   },
   "cell_type": "code",
   "source": "model.add(Dense(1, activation='linear'))",
   "id": "e806df4fe237a663",
   "outputs": [
    {
     "ename": "NameError",
     "evalue": "name 'model' is not defined",
     "output_type": "error",
     "traceback": [
      "\u001B[1;31m---------------------------------------------------------------------------\u001B[0m",
      "\u001B[1;31mNameError\u001B[0m                                 Traceback (most recent call last)",
      "Cell \u001B[1;32mIn[7], line 1\u001B[0m\n\u001B[1;32m----> 1\u001B[0m \u001B[43mmodel\u001B[49m\u001B[38;5;241m.\u001B[39madd(Dense(\u001B[38;5;241m1\u001B[39m, activation\u001B[38;5;241m=\u001B[39m\u001B[38;5;124m'\u001B[39m\u001B[38;5;124mlinear\u001B[39m\u001B[38;5;124m'\u001B[39m))\n",
      "\u001B[1;31mNameError\u001B[0m: name 'model' is not defined"
     ]
    }
   ],
   "execution_count": 7
  },
  {
   "metadata": {},
   "cell_type": "markdown",
   "source": [
    "# 9. Modelin Derlenmesi\n",
    "Modeli derleyelim:"
   ],
   "id": "b6c6b6d54fc41cc3"
  },
  {
   "metadata": {},
   "cell_type": "code",
   "outputs": [],
   "execution_count": null,
   "source": "model.compile(loss='mean_squared_error', optimizer='adam', metrics=['mean_squared_error'])",
   "id": "3e6cf994bbc7ba76"
  },
  {
   "metadata": {},
   "cell_type": "markdown",
   "source": [
    "# Açıklama:\n",
    "\n",
    "* optimizer='adam': Adam optimizasyon algoritması.\n",
    "* loss='mean_squared_error': Ortalama Kare Hata kayıp fonksiyonu.\n",
    "* metrics=['mse']: Performans metriği olarak MSE kullanıyoruz."
   ],
   "id": "637ecaf2cb8ea5ec"
  },
  {
   "metadata": {},
   "cell_type": "markdown",
   "source": "# 10. Modelin Eğitilmesi",
   "id": "c45bf862f0e1bf8b"
  },
  {
   "metadata": {},
   "cell_type": "code",
   "outputs": [],
   "execution_count": null,
   "source": "model.summary()\n",
   "id": "79df09f25f7dee5"
  },
  {
   "metadata": {},
   "cell_type": "markdown",
   "source": "# 11 Modelin Görselleştirilmesi",
   "id": "80249a720bea988b"
  },
  {
   "metadata": {},
   "cell_type": "code",
   "outputs": [],
   "execution_count": null,
   "source": "plot_model(model, to_file='model_plot.png', show_shapes=True, show_layer_names=True)\n",
   "id": "8051e52592a926e3"
  },
  {
   "metadata": {},
   "cell_type": "markdown",
   "source": "# 12. Modelin Eğitilmesi",
   "id": "701f1420cc946948"
  },
  {
   "metadata": {},
   "cell_type": "code",
   "outputs": [],
   "execution_count": null,
   "source": "history = model.fit(X_train, y_train, epochs=400, batch_size=1, validation_data=(X_test, y_test)) ",
   "id": "e4e6e0a197c83507"
  },
  {
   "metadata": {},
   "cell_type": "markdown",
   "source": [
    "# Açıklama:\n",
    "\n",
    "* epochs=400: Eğitim 400 kez tekrarlanacak.\n",
    "* batch_size=1: Her adımda tek bir örnekle güncelleme yapılacak.\n",
    "* validation_data: Modelin doğrulama verisi üzerindeki performansı kontrol edilecek."
   ],
   "id": "39e411fdf592ec14"
  },
  {
   "metadata": {},
   "cell_type": "markdown",
   "source": [
    "# 13. Model Performansının Görselleştirilmesi\n",
    "a. MSE Değerlerinin Plot Edilmesi\n",
    "Eğitim ve test MSE değerlerini görselleştirelim:"
   ],
   "id": "ceb8d37f96e94d69"
  },
  {
   "metadata": {
    "ExecuteTime": {
     "end_time": "2024-10-17T12:29:50.267219Z",
     "start_time": "2024-10-17T12:29:50.259385Z"
    }
   },
   "cell_type": "code",
   "source": [
    "import matplotlib.pyplot as plt\n",
    "\n",
    "plt.plot(history.history['mse'])\n",
    "plt.plot(history.history['val_mse'])\n",
    "plt.title('Model MSE Değerleri')\n",
    "plt.ylabel('MSE')\n",
    "plt.xlabel('Epoch')\n",
    "plt.legend(['Eğitim', 'Test'], loc='upper left')\n",
    "plt.show()\n"
   ],
   "id": "208a0fa4faf1dfc5",
   "outputs": [
    {
     "ename": "SyntaxError",
     "evalue": "invalid syntax (1161333973.py, line 2)",
     "output_type": "error",
     "traceback": [
      "\u001B[1;36m  Cell \u001B[1;32mIn[8], line 2\u001B[1;36m\u001B[0m\n\u001B[1;33m    a. MSE Değerlerinin Plot Edilmesi\u001B[0m\n\u001B[1;37m           ^\u001B[0m\n\u001B[1;31mSyntaxError\u001B[0m\u001B[1;31m:\u001B[0m invalid syntax\n"
     ]
    }
   ],
   "execution_count": 8
  },
  {
   "metadata": {},
   "cell_type": "markdown",
   "source": "b. Kayıp Değerlerinin Plot Edilmesi",
   "id": "27ceb51dd97c5e61"
  },
  {
   "metadata": {},
   "cell_type": "code",
   "outputs": [],
   "execution_count": null,
   "source": [
    "plt.plot(history.history['loss'])\n",
    "plt.plot(history.history['val_loss'])\n",
    "plt.title('Model Kayıp Değerleri')\n",
    "plt.ylabel('Kayıp')\n",
    "plt.xlabel('Epoch')\n",
    "plt.legend(['Eğitim', 'Test'], loc='upper left')\n",
    "plt.show()\n"
   ],
   "id": "97b1b08731ac3603"
  },
  {
   "metadata": {},
   "cell_type": "markdown",
   "source": [
    "# 14. Yeni Örneklerle Tahmin Yapma\n",
    "Modelimizi kullanarak yeni veriler üzerinde tahminler yapalım:"
   ],
   "id": "bc54f1d7804c6641"
  },
  {
   "metadata": {},
   "cell_type": "code",
   "outputs": [],
   "execution_count": null,
   "source": [
    "samples = np.array([[100.0,100.0], [23.0, 27.0]])\n",
    "predictions = model.predict(samples)\n",
    "print(predictions)"
   ],
   "id": "840fcfda9709fe44"
  },
  {
   "metadata": {},
   "cell_type": "markdown",
   "source": [
    "# Ek Uygulamalar\n",
    "a. Regresyon Modeli Yapısı\n",
    "Daha fazla özellik içeren bir regresyon modeli şu şekilde olabilir:"
   ],
   "id": "a0af4b553528e460"
  },
  {
   "metadata": {},
   "cell_type": "code",
   "outputs": [],
   "execution_count": null,
   "source": [
    "model = Sequential([\n",
    "    Dense(20, activation='relu', input_shape=(10,)), \n",
    "    Dense(20, activation='relu'),\n",
    "    Dense(1, activation='linear')\n",
    "])\n",
    "model.compile(optimizer='adam', loss='mse')\n"
   ],
   "id": "bab8b73a6db500ff"
  },
  {
   "metadata": {},
   "cell_type": "markdown",
   "source": [
    "# b. İkili Sınıflandırma Modeli Yapısı\n",
    "İkili sınıflandırma problemleri için:"
   ],
   "id": "e1ce80e45cd66842"
  },
  {
   "metadata": {},
   "cell_type": "code",
   "outputs": [],
   "execution_count": null,
   "source": [
    "model = Sequential([\n",
    "    Dense(20, activation='relu', input_shape=(10,)),\n",
    "    Dense(20, activation='relu'),\n",
    "    Dense(1, activation='sigmoid')\n",
    "])\n",
    "model.compile(optimizer='adam', loss='binary_crossentropy', metrics=['accuracy'])\n"
   ],
   "id": "869ca57ba9586db6"
  },
  {
   "metadata": {},
   "cell_type": "markdown",
   "source": [
    "c. Çoklu Sınıflandırma Modeli Yapısı\n",
    "Çoklu sınıflandırma problemleri için:"
   ],
   "id": "f0bbdb8616e4dfeb"
  },
  {
   "metadata": {},
   "cell_type": "code",
   "outputs": [],
   "execution_count": null,
   "source": [
    "num_classes = 3\n",
    "\n",
    "model = Sequential([\n",
    "    Dense(20, activation='relu', input_shape=(10,)),\n",
    "    Dense(20, activation='relu'),\n",
    "    Dense(num_classes, activation='softmax')\n",
    "])\n",
    "model.compile(optimizer='SGD', loss='categorical_crossentropy', metrics=['accuracy'])\n"
   ],
   "id": "5264dafa2ba87b29"
  },
  {
   "metadata": {},
   "cell_type": "markdown",
   "source": "# Sonuç modelleri görselleştirme",
   "id": "c778d42aeb9285a1"
  },
  {
   "metadata": {},
   "cell_type": "code",
   "outputs": [],
   "execution_count": null,
   "source": "plot_model(model, to_file='model_plot.png', show_shapes=True, show_layer_names=True)",
   "id": "14ac754f18761623"
  }
 ],
 "metadata": {
  "kernelspec": {
   "display_name": "Python 3",
   "language": "python",
   "name": "python3"
  },
  "language_info": {
   "codemirror_mode": {
    "name": "ipython",
    "version": 2
   },
   "file_extension": ".py",
   "mimetype": "text/x-python",
   "name": "python",
   "nbconvert_exporter": "python",
   "pygments_lexer": "ipython2",
   "version": "2.7.6"
  }
 },
 "nbformat": 4,
 "nbformat_minor": 5
}
