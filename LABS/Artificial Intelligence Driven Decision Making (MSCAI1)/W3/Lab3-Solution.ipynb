{
 "cells": [
  {
   "metadata": {},
   "cell_type": "markdown",
   "source": "1. Install Required Packages (Code Cell)",
   "id": "80fe7d8984a52e7c"
  },
  {
   "metadata": {
    "ExecuteTime": {
     "end_time": "2025-02-07T23:42:57.138349Z",
     "start_time": "2025-02-07T23:42:56.410733Z"
    }
   },
   "cell_type": "code",
   "source": [
    "# Install amplpy and python-dotenv\n",
    "%pip install -q amplpy python-dotenv"
   ],
   "id": "1e4ba9256ea41c40",
   "outputs": [
    {
     "name": "stdout",
     "output_type": "stream",
     "text": [
      "\r\n",
      "\u001B[1m[\u001B[0m\u001B[34;49mnotice\u001B[0m\u001B[1;39;49m]\u001B[0m\u001B[39;49m A new release of pip is available: \u001B[0m\u001B[31;49m23.0.1\u001B[0m\u001B[39;49m -> \u001B[0m\u001B[32;49m25.0\u001B[0m\r\n",
      "\u001B[1m[\u001B[0m\u001B[34;49mnotice\u001B[0m\u001B[1;39;49m]\u001B[0m\u001B[39;49m To update, run: \u001B[0m\u001B[32;49mpip3.10 install --upgrade pip\u001B[0m\r\n",
      "Note: you may need to restart the kernel to use updated packages.\n"
     ]
    }
   ],
   "execution_count": 1
  },
  {
   "metadata": {},
   "cell_type": "markdown",
   "source": [
    "2. Environment Setup (Markdown Explanation)\n",
    "Create a .env file in your working directory with:\n",
    "Replace your_license_uid_here with your actual AMPL license UUID."
   ],
   "id": "d373753925719b9d"
  },
  {
   "metadata": {},
   "cell_type": "markdown",
   "source": "3. Initialize AMPL with Environment Variables (Code Cell)",
   "id": "fadd8175818324f1"
  },
  {
   "metadata": {
    "ExecuteTime": {
     "end_time": "2025-02-07T23:44:16.154188Z",
     "start_time": "2025-02-07T23:44:07.564853Z"
    }
   },
   "cell_type": "code",
   "source": [
    "from amplpy import AMPL, ampl_notebook\n",
    "from dotenv import load_dotenv\n",
    "import os\n",
    "\n",
    "# Load environment variables\n",
    "load_dotenv()\n",
    "\n",
    "# Initialize AMPL with security best practices\n",
    "ampl = ampl_notebook(\n",
    "    modules=[\"highs\"],\n",
    "    license_uuid=os.getenv(\"AMPL_LICENSE_UUID\")  # Secure credential handling\n",
    ")\n",
    "print(\"AMPL initialized successfully ✅\")"
   ],
   "id": "6e5e6bea70d26b22",
   "outputs": [
    {
     "name": "stdout",
     "output_type": "stream",
     "text": [
      "Licensed to AMPL Community Edition License for <laleso2563@perceint.com>.\n",
      "AMPL initialized successfully ✅\n"
     ]
    }
   ],
   "execution_count": 2
  },
  {
   "metadata": {},
   "cell_type": "markdown",
   "source": "4. Define the Optimization Model (Code Cell with Markdown Explanation)\n",
   "id": "d6c7c3efd81b4b61"
  },
  {
   "metadata": {
    "ExecuteTime": {
     "end_time": "2025-02-07T23:46:10.587014Z",
     "start_time": "2025-02-07T23:46:10.584595Z"
    }
   },
   "cell_type": "code",
   "source": [
    "%%ampl_eval\n",
    "reset;\n",
    "# --------------------------\n",
    "# Knapsack Problem Formulation\n",
    "# --------------------------\n",
    "set ITEMS;                # All available items\n",
    "param weight{ITEMS};      # Weight of each item\n",
    "param benefit{ITEMS};     # Benefit value of each item\n",
    "\n",
    "var H{ITEMS} binary;      # Husband's knapsack (1 = packed)\n",
    "var W{ITEMS} binary;      # Wife's knapsack (1 = packed)\n",
    "\n",
    "maximize TotalBenefit:\n",
    "    sum{i in ITEMS} benefit[i] * (H[i] + W[i]);\n",
    "\n",
    "subject to HusbandCapacity:\n",
    "    sum{i in ITEMS} weight[i] * H[i] <= 20;\n",
    "\n",
    "subject to WifeCapacity:\n",
    "    sum{i in ITEMS} weight[i] * W[i] <= 17;\n",
    "\n",
    "subject to NoDuplicates{i in ITEMS}:\n",
    "    H[i] + W[i] <= 1;     # Item cannot be in both knapsacks"
   ],
   "id": "f15bd842c051e9c0",
   "outputs": [],
   "execution_count": 6
  },
  {
   "metadata": {},
   "cell_type": "markdown",
   "source": "5. Input Data Handling (Code Cell with Markdown Explanation)\n",
   "id": "12c1b36c2c7f13af"
  },
  {
   "metadata": {
    "ExecuteTime": {
     "end_time": "2025-02-07T23:46:12.346895Z",
     "start_time": "2025-02-07T23:46:12.340123Z"
    }
   },
   "cell_type": "code",
   "source": [
    "# --------------------------\n",
    "# Dynamic Data Input System\n",
    "# --------------------------\n",
    "items = {\n",
    "    'stove': {'weight': 7, 'benefit': 10},\n",
    "    'lamp': {'weight': 6, 'benefit': 9},\n",
    "    'axe': {'weight': 13, 'benefit': 6},\n",
    "    'binoculars': {'weight': 4, 'benefit': 3},\n",
    "    'rope': {'weight': 9, 'benefit': 14}\n",
    "}\n",
    "\n",
    "# Send data to AMPL\n",
    "ampl.set[\"ITEMS\"] = list(items.keys())\n",
    "ampl.param[\"weight\"] = {k: v['weight'] for k, v in items.items()}\n",
    "ampl.param[\"benefit\"] = {k: v['benefit'] for k, v in items.items()}\n",
    "\n",
    "print(\"Data loaded successfully 📊\")"
   ],
   "id": "6fb46fafb054ff5a",
   "outputs": [
    {
     "name": "stdout",
     "output_type": "stream",
     "text": [
      "Data loaded successfully 📊\n"
     ]
    }
   ],
   "execution_count": 7
  },
  {
   "metadata": {},
   "cell_type": "markdown",
   "source": "6. Solve the Problem (Code Cell with Markdown Explanation)\n",
   "id": "fae6c3e491a4f7cf"
  },
  {
   "metadata": {
    "ExecuteTime": {
     "end_time": "2025-02-07T23:46:15.940585Z",
     "start_time": "2025-02-07T23:46:15.230904Z"
    }
   },
   "cell_type": "code",
   "source": [
    "# --------------------------\n",
    "# Solver Configuration\n",
    "# --------------------------\n",
    "ampl.option[\"solver\"] = \"highs\"  # Open-source solver\n",
    "ampl.solve()\n",
    "\n",
    "# Check solution status\n",
    "if ampl.solve_result != \"solved\":\n",
    "    raise RuntimeError(f\"Solver failed: {ampl.solve_message}\")"
   ],
   "id": "4cf01099b4cb51ae",
   "outputs": [
    {
     "name": "stdout",
     "output_type": "stream",
     "text": [
      "HiGHS 1.8.1: HiGHS 1.8.1: optimal solution; objective 39\n",
      "16 simplex iterations\n",
      "1 branching nodes\n"
     ]
    }
   ],
   "execution_count": 8
  },
  {
   "metadata": {},
   "cell_type": "markdown",
   "source": "7. Display Results (Code Cell with Markdown Explanation)\n",
   "id": "7218283eac012b62"
  },
  {
   "metadata": {
    "ExecuteTime": {
     "end_time": "2025-02-07T23:46:19.806729Z",
     "start_time": "2025-02-07T23:46:19.349221Z"
    }
   },
   "cell_type": "code",
   "source": [
    "# --------------------------\n",
    "# Professional Results Display\n",
    "# --------------------------\n",
    "import pandas as pd\n",
    "\n",
    "# Get results\n",
    "results = []\n",
    "for item in ampl.getSet(\"ITEMS\"):\n",
    "    h_val = ampl.getVariable(\"H\").get(item).value()\n",
    "    w_val = ampl.getVariable(\"W\").get(item).value()\n",
    "    results.append({\n",
    "        'Item': item,\n",
    "        'Husband': '✅' if h_val > 0.5 else '❌',\n",
    "        'Wife': '✅' if w_val > 0.5 else '❌',\n",
    "        'Weight': items[item]['weight'],\n",
    "        'Benefit': items[item]['benefit']\n",
    "    })\n",
    "\n",
    "# Create DataFrame\n",
    "df = pd.DataFrame(results).set_index('Item')\n",
    "\n",
    "# Format display\n",
    "print(f\"\\nOptimal Total Benefit: {ampl.getObjective('TotalBenefit').value():.1f}\")\n",
    "print(\"\\nAllocation Matrix:\")\n",
    "display(df.style.format({\n",
    "    'Weight': '{:.0f} kg',\n",
    "    'Benefit': '{:.0f} pts'\n",
    "}).set_caption(\"Knapsack Optimization Results\"))"
   ],
   "id": "bf61687382eaf0e1",
   "outputs": [
    {
     "name": "stdout",
     "output_type": "stream",
     "text": [
      "\n",
      "Optimal Total Benefit: 39.0\n",
      "\n",
      "Allocation Matrix:\n"
     ]
    },
    {
     "data": {
      "text/plain": [
       "<pandas.io.formats.style.Styler at 0x1077d5540>"
      ],
      "text/html": [
       "<style type=\"text/css\">\n",
       "</style>\n",
       "<table id=\"T_68574\">\n",
       "  <caption>Knapsack Optimization Results</caption>\n",
       "  <thead>\n",
       "    <tr>\n",
       "      <th class=\"blank level0\" >&nbsp;</th>\n",
       "      <th id=\"T_68574_level0_col0\" class=\"col_heading level0 col0\" >Husband</th>\n",
       "      <th id=\"T_68574_level0_col1\" class=\"col_heading level0 col1\" >Wife</th>\n",
       "      <th id=\"T_68574_level0_col2\" class=\"col_heading level0 col2\" >Weight</th>\n",
       "      <th id=\"T_68574_level0_col3\" class=\"col_heading level0 col3\" >Benefit</th>\n",
       "    </tr>\n",
       "    <tr>\n",
       "      <th class=\"index_name level0\" >Item</th>\n",
       "      <th class=\"blank col0\" >&nbsp;</th>\n",
       "      <th class=\"blank col1\" >&nbsp;</th>\n",
       "      <th class=\"blank col2\" >&nbsp;</th>\n",
       "      <th class=\"blank col3\" >&nbsp;</th>\n",
       "    </tr>\n",
       "  </thead>\n",
       "  <tbody>\n",
       "    <tr>\n",
       "      <th id=\"T_68574_level0_row0\" class=\"row_heading level0 row0\" >stove</th>\n",
       "      <td id=\"T_68574_row0_col0\" class=\"data row0 col0\" >❌</td>\n",
       "      <td id=\"T_68574_row0_col1\" class=\"data row0 col1\" >✅</td>\n",
       "      <td id=\"T_68574_row0_col2\" class=\"data row0 col2\" >7 kg</td>\n",
       "      <td id=\"T_68574_row0_col3\" class=\"data row0 col3\" >10 pts</td>\n",
       "    </tr>\n",
       "    <tr>\n",
       "      <th id=\"T_68574_level0_row1\" class=\"row_heading level0 row1\" >lamp</th>\n",
       "      <td id=\"T_68574_row1_col0\" class=\"data row1 col0\" >✅</td>\n",
       "      <td id=\"T_68574_row1_col1\" class=\"data row1 col1\" >❌</td>\n",
       "      <td id=\"T_68574_row1_col2\" class=\"data row1 col2\" >6 kg</td>\n",
       "      <td id=\"T_68574_row1_col3\" class=\"data row1 col3\" >9 pts</td>\n",
       "    </tr>\n",
       "    <tr>\n",
       "      <th id=\"T_68574_level0_row2\" class=\"row_heading level0 row2\" >axe</th>\n",
       "      <td id=\"T_68574_row2_col0\" class=\"data row2 col0\" >✅</td>\n",
       "      <td id=\"T_68574_row2_col1\" class=\"data row2 col1\" >❌</td>\n",
       "      <td id=\"T_68574_row2_col2\" class=\"data row2 col2\" >13 kg</td>\n",
       "      <td id=\"T_68574_row2_col3\" class=\"data row2 col3\" >6 pts</td>\n",
       "    </tr>\n",
       "    <tr>\n",
       "      <th id=\"T_68574_level0_row3\" class=\"row_heading level0 row3\" >binoculars</th>\n",
       "      <td id=\"T_68574_row3_col0\" class=\"data row3 col0\" >❌</td>\n",
       "      <td id=\"T_68574_row3_col1\" class=\"data row3 col1\" >❌</td>\n",
       "      <td id=\"T_68574_row3_col2\" class=\"data row3 col2\" >4 kg</td>\n",
       "      <td id=\"T_68574_row3_col3\" class=\"data row3 col3\" >3 pts</td>\n",
       "    </tr>\n",
       "    <tr>\n",
       "      <th id=\"T_68574_level0_row4\" class=\"row_heading level0 row4\" >rope</th>\n",
       "      <td id=\"T_68574_row4_col0\" class=\"data row4 col0\" >❌</td>\n",
       "      <td id=\"T_68574_row4_col1\" class=\"data row4 col1\" >✅</td>\n",
       "      <td id=\"T_68574_row4_col2\" class=\"data row4 col2\" >9 kg</td>\n",
       "      <td id=\"T_68574_row4_col3\" class=\"data row4 col3\" >14 pts</td>\n",
       "    </tr>\n",
       "  </tbody>\n",
       "</table>\n"
      ]
     },
     "metadata": {},
     "output_type": "display_data"
    }
   ],
   "execution_count": 9
  }
 ],
 "metadata": {
  "kernelspec": {
   "display_name": "Python 3",
   "language": "python",
   "name": "python3"
  },
  "language_info": {
   "codemirror_mode": {
    "name": "ipython",
    "version": 2
   },
   "file_extension": ".py",
   "mimetype": "text/x-python",
   "name": "python",
   "nbconvert_exporter": "python",
   "pygments_lexer": "ipython2",
   "version": "2.7.6"
  }
 },
 "nbformat": 4,
 "nbformat_minor": 5
}
