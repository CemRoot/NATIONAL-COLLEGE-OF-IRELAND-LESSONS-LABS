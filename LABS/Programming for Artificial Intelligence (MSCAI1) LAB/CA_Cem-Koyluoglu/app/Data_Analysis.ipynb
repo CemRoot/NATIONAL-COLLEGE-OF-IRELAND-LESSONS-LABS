{
 "cells": [
  {
   "metadata": {},
   "cell_type": "markdown",
   "source": [
    "### A Brief Justification for the Suitability of the Data Set\n",
    "\n",
    "**Reason:**\n",
    "\n",
    "The Global Weather Dataset has weather information from many places around the world. It talks about important weather factors like temperature, humidity, and rainfall. The file is perfect for weather research and forecasting on a world scale because it covers a lot of ground and has a lot of information. This information can be used to look at the effects of climate change, area weather trends, and extreme weather events."
   ],
   "id": "f64cafd27362cc64"
  },
  {
   "metadata": {},
   "cell_type": "markdown",
   "source": "### Data Processing (20 Marks):",
   "id": "e035696b47fab568"
  },
  {
   "cell_type": "code",
   "id": "initial_id",
   "metadata": {
    "collapsed": true
   },
   "source": [
    "# Importing the necessary libraries\n",
    "import pandas as pd  # For data manipulation\n",
    "import numpy as np  # For numerical computation"
   ],
   "outputs": [],
   "execution_count": null
  },
  {
   "metadata": {},
   "cell_type": "markdown",
   "source": "### 2.2 Load the dataset",
   "id": "bc606e8a6263d819"
  },
  {
   "metadata": {},
   "cell_type": "code",
   "source": [
    "# Load the dataset\n",
    "data = pd.read_csv('app/GlobalWeatherRepository.csv')"
   ],
   "id": "33817f779fdcdd2a",
   "outputs": [],
   "execution_count": null
  },
  {
   "metadata": {},
   "cell_type": "markdown",
   "source": "### 2.3 Data visualization",
   "id": "f7ce7fe512d443d5"
  },
  {
   "metadata": {},
   "cell_type": "code",
   "source": [
    "# Display the first 5 rows of the dataset\n",
    "data.head()"
   ],
   "id": "30d216bdec50c84f",
   "outputs": [],
   "execution_count": null
  },
  {
   "metadata": {},
   "cell_type": "markdown",
   "source": "### 2.4  Check for Missing Values",
   "id": "ed1e98f86c5a51b4"
  },
  {
   "metadata": {},
   "cell_type": "code",
   "source": [
    "# Check for missing values\n",
    "data.isnull().sum()"
   ],
   "id": "3fb7ddc356d6ca3c",
   "outputs": [],
   "execution_count": null
  },
  {
   "metadata": {},
   "cell_type": "markdown",
   "source": [
    "### 2.5 Check Data Types\n",
    "* This helps us understand which columns might need data type conversions."
   ],
   "id": "c743cd4ef876b395"
  },
  {
   "metadata": {},
   "cell_type": "code",
   "source": [
    "# Check data types\n",
    "data.dtypes"
   ],
   "id": "b28adb90b50c0830",
   "outputs": [],
   "execution_count": null
  },
  {
   "metadata": {},
   "cell_type": "markdown",
   "source": [
    "### 2.6 Cleaning Up Data\n",
    "\n"
   ],
   "id": "55294ab24b0757ad"
  },
  {
   "metadata": {},
   "cell_type": "code",
   "source": [
    "# first of all I will check the percentage of missing values in each column\n",
    "missing_values = data.isnull().mean() * 100\n",
    "print(missing_values)  # as we see data are clean and there are no missing values\n",
    "# Also I want to check which values are they like str,int,float,etc.\n",
    "data.info()"
   ],
   "id": "8113c19ca1263848",
   "outputs": [],
   "execution_count": null
  },
  {
   "metadata": {},
   "cell_type": "markdown",
   "source": [
    "### 2.6.2 Data Type Conversion\n",
    "\n",
    " ### a. Convert the Date and Time columns\n",
    "\n",
    "Determine which columns should be datetime formatted and convert them.\n",
    "\n",
    "Soo lets looking at the data types, we can observe the following:\n",
    "\n",
    "**Geographic Location and Basic Details:** The 'country', 'location_name', 'latitude', 'longitude', and 'timezone' columns provide the location and time zone of each observation. These columns seem to have the correct data types ('Object' and 'float64').\n",
    "\n",
    "**Update time:** The columns 'last_updated_epoch' (an epoch timestamp) and 'last_updated' (which may be in readable date format) denote the update time. If you wish to do an analysis in date format, you must convert the 'last_updated' column to 'datetime'.\n",
    "\n",
    "**Temperature and Condition Details:** The 'temperature_celsius' and 'temperature_fahrenheit' columns include temperature data, and 'condition_text' offers textual information on the current weather conditions.\n",
    "\n",
    "In this case, the only modification required is to convert the 'last_updated' column to 'datetime' format. Following that, you may review the cleaned data, which we may save.\n"
   ],
   "id": "f212b68f4fb5e41c"
  },
  {
   "metadata": {},
   "cell_type": "code",
   "source": [
    "# Convert 'last_updated' to datetime\n",
    "data['last_updated'] = pd.to_datetime(data['last_updated'])\n",
    "# Converting other time columns to datetime\n",
    "\n",
    "# showing cleaned data\n",
    "data.to_csv('GlobalWeatherRepository.csv', index=False)\n",
    "\n",
    "# describe the data\n",
    "data.describe()"
   ],
   "id": "d8c4ba5cee4c2d3f",
   "outputs": [],
   "execution_count": null
  },
  {
   "metadata": {},
   "cell_type": "markdown",
   "source": [
    "### Step 3: Data Analysis and Visualization.\n",
    "\n",
    "We will now do some simple analysis and build visualizations to better comprehend the data's important trends. Here is what we will do:\n",
    "\n",
    "**Global Temperature Summary:** Determine the top five warmest and coolest regions.\n",
    "\n",
    "**Group Analysis:** Calculate the average temperature per area or nation.\n",
    "\n",
    "**Visualizations:** Create at least two visualizations, including a histogram of world temperatures.\n",
    "- A line map of temperature variations over time in a specified location.\n"
   ],
   "id": "9b833eb38182d12b"
  },
  {
   "metadata": {},
   "cell_type": "markdown",
   "source": [
    "### 3.1 Global Temperature Summary (English)\n",
    "* To find the top 5 hottest and coldest locations globally, we’ll sort the dataset by the temperature_celsius column and then select the top and bottom entries."
   ],
   "id": "ccfee863c6b01ea0"
  },
  {
   "metadata": {},
   "cell_type": "code",
   "source": [
    "# Top 5 hottest locations\n",
    "hottest_locations = data.sort_values(by='temperature_celsius', ascending=False).head(5)\n",
    "print(\"Top 5 Hottest Locations:\\n\", hottest_locations[['location_name', 'country', 'temperature_celsius']])\n",
    "\n",
    "# Top 5 coldest locations\n",
    "coldest_locations = data.sort_values(by='temperature_celsius', ascending=True).head(5)\n",
    "print(\"Top 5 Coldest Locations:\\n\", coldest_locations[['location_name', 'country', 'temperature_celsius']])\n"
   ],
   "id": "2af2a1f204b78120",
   "outputs": [],
   "execution_count": null
  },
  {
   "metadata": {},
   "cell_type": "markdown",
   "source": [
    "### 3.2 Group Analysis\n",
    "* Now I'll run a group analysis to get the average temperature by nation. This may aid in determining general temperature trends in various places."
   ],
   "id": "c0bd0b199baa5a4"
  },
  {
   "metadata": {},
   "cell_type": "code",
   "source": [
    "# Average temperature by country\n",
    "avg_temp_by_country = data.groupby('country')['temperature_celsius'].mean().sort_values(ascending=False)\n",
    "print(\"Average Temperature by Country:\\n\", avg_temp_by_country)\n"
   ],
   "id": "9d3b995d98c43d69",
   "outputs": [],
   "execution_count": null
  },
  {
   "metadata": {},
   "cell_type": "markdown",
   "source": [
    "### 3.3 Visualization \n",
    "* Next, I will develop some visualizations:\n",
    "\n",
    "* Histogram of Global Temperatures: This depicts the distribution of temperatures across all places.\n",
    "Line Plot of Temperature Over Time: If we have time data (such as last_updated), we can make a line plot to examine how temperatures vary over time in a given place.\n"
   ],
   "id": "4ccf42ff5d00a821"
  },
  {
   "metadata": {},
   "cell_type": "code",
   "source": [
    "import matplotlib.pyplot as plt\n",
    "\n",
    "# Histogram of Global Temperatures\n",
    "plt.figure(figsize=(10, 6))\n",
    "plt.hist(data['temperature_celsius'], bins=30, edgecolor='red')\n",
    "plt.title('Global Temperature Distribution')\n",
    "plt.xlabel('Temperature (°C)')\n",
    "plt.ylabel('Frequency')\n",
    "plt.show()\n",
    "\n",
    "# Line Plot of Temperature Over Time for Turkey\n",
    "turkey_data = data[data['country'] == 'Turkey']  # Filter for data from Turkey\n",
    "plt.figure(figsize=(10, 6))\n",
    "plt.plot(turkey_data['last_updated'], turkey_data['temperature_celsius'], marker='o')\n",
    "plt.title('Temperature Over Time - Turkey')\n",
    "plt.xlabel('Date')\n",
    "plt.ylabel('Temperature (°C)')\n",
    "plt.xticks(rotation=45)\n",
    "plt.show()"
   ],
   "id": "6df9e60b254c3096",
   "outputs": [],
   "execution_count": null
  }
 ],
 "metadata": {
  "kernelspec": {
   "display_name": "Python 3",
   "language": "python",
   "name": "python3"
  },
  "language_info": {
   "codemirror_mode": {
    "name": "ipython",
    "version": 2
   },
   "file_extension": ".py",
   "mimetype": "text/x-python",
   "name": "python",
   "nbconvert_exporter": "python",
   "pygments_lexer": "ipython2",
   "version": "2.7.6"
  }
 },
 "nbformat": 4,
 "nbformat_minor": 5
}
