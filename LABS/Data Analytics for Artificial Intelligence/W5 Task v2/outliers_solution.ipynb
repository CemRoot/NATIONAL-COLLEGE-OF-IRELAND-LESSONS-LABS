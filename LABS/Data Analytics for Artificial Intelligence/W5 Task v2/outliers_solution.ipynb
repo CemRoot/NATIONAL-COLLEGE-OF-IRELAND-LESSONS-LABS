{
 "cells": [
  {
   "metadata": {},
   "cell_type": "markdown",
   "source": [
    "### Answer the following Questions:\n",
    "\n",
    "In the exercise folder, you will find a zip file called `outlierData.zip`. This zip file contains a training file called `trainOutlier.csv` and a test file called `test.csv`. This is a regression problem, and the target value is contained in the last column in each file. Read this data into your program.\n",
    "\n",
    "1. **Build a model using `DecisionTreeRegressor` and assess the accuracy.**\n",
    "2. **Identify any outliers in the training data using boxplots.**\n",
    "3. **Remove the outliers and reassess the new accuracy of the model.**\n",
    "\n",
    "Don’t worry about the Decision Tree regression model (we will cover them in the coming weeks).\n",
    "\n",
    "For now, use the codes below (before/after you remove outliers):\n",
    "\n",
    "```python\n",
    "reg = DecisionTreeRegressor()\n",
    "reg = reg.fit(train_features, train_labels)\n",
    "print(reg.score(test_features, test_labels))"
   ]
  },
  {
   "cell_type": "code",
   "execution_count": 2,
   "metadata": {},
   "outputs": [
    {
     "data": {
      "image/png": "[encoded data removed]",
      "text/plain": [
       "<Figure size 432x288 with 1 Axes>"
      ]
     },
     "metadata": {
      "needs_background": "light"
     },
     "output_type": "display_data"
    },
    {
     "name": "stdout",
     "output_type": "stream",
     "text": [
      "0.672608184499861\n"
     ]
    },
    {
     "data": {
      "image/png": "[encoded data removed]",
      "text/plain": [
       "<Figure size 432x288 with 1 Axes>"
      ]
     },
     "metadata": {
      "needs_background": "light"
     },
     "output_type": "display_data"
    },
    {
     "name": "stdout",
     "output_type": "stream",
     "text": [
      "0.6861310753860475\n"
     ]
    }
   ],
   "source": [
    "import numpy as np\n",
    "import pandas as pd\n",
    "import seaborn as sns\n",
    "import matplotlib.pyplot as plt\n",
    "from sklearn.tree import DecisionTreeRegressor\n",
    "\n",
    "\n",
    "def load_data(train_file, test_file):\n",
    "    \"\"\"\n",
    "    Verileri CSV dosyalarından yükleyerek eğitim ve test veri setlerine ayırır.\n",
    "    \n",
    "    Args:\n",
    "        train_file (str): Eğitim verisi dosya yolu.\n",
    "        test_file (str): Test verisi dosya yolu.\n",
    "    \n",
    "    Returns:\n",
    "        tuple: Eğitim ve test veri setleri (train_features, train_labels, test_features, test_labels).\n",
    "    \"\"\"\n",
    "    # Eğitim ve test verilerini CSV'den yükle\n",
    "    train_data = np.genfromtxt(train_file, delimiter=\",\")\n",
    "    test_data = np.genfromtxt(test_file, delimiter=\",\")\n",
    "    \n",
    "    # Eğitim verisinden özellikleri (features) ve etiketleri (labels) ayır\n",
    "    train_features = train_data[:, :-1]\n",
    "    train_labels = train_data[:, -1]\n",
    "    \n",
    "    # Test verisinden özellikleri (features) ve etiketleri (labels) ayır\n",
    "    test_features = test_data[:, :-1]\n",
    "    test_labels = test_data[:, -1]\n",
    "    \n",
    "    return train_features, train_labels, test_features, test_labels\n",
    "\n",
    "\n",
    "def plot_boxplot(features, title):\n",
    "    \"\"\"\n",
    "    Özellikler (features) için boxplot çizimi yaparak aykırı değerleri görselleştirir.\n",
    "    \n",
    "    Args:\n",
    "        features (numpy array): Görselleştirme için kullanılacak veri (özellikler).\n",
    "        title (str): Grafiğin başlığı.\n",
    "    \"\"\"\n",
    "    sns.boxplot(data=pd.DataFrame(features))\n",
    "    plt.title(title)\n",
    "    plt.show()\n",
    "\n",
    "\n",
    "def train_decision_tree_regressor(train_features, train_labels, test_features, test_labels):\n",
    "    \"\"\"\n",
    "    Karar Ağacı Regresyon modelini eğitip test setinde performansını ölçer.\n",
    "    \n",
    "    Args:\n",
    "        train_features (numpy array): Eğitim verisindeki giriş özellikleri.\n",
    "        train_labels (numpy array): Eğitim verisindeki hedef değişkenler.\n",
    "        test_features (numpy array): Test verisindeki giriş özellikleri.\n",
    "        test_labels (numpy array): Test verisindeki hedef değişkenler.\n",
    "    \n",
    "    Returns:\n",
    "        float: Modelin test setindeki R^2 skoru.\n",
    "    \"\"\"\n",
    "    # Karar Ağacı Regresyon Modeli\n",
    "    regressor = DecisionTreeRegressor()\n",
    "    regressor.fit(train_features, train_labels)\n",
    "    \n",
    "    # Test seti üzerinde R^2 skorunu döndür\n",
    "    return regressor.score(test_features, test_labels)\n",
    "\n",
    "\n",
    "def remove_outliers(features, labels, conditions):\n",
    "    \"\"\"\n",
    "    Verilen koşullara göre aykırı değerleri veri setinden çıkarır.\n",
    "    \n",
    "    Args:\n",
    "        features (numpy array): Giriş özellikleri (features).\n",
    "        labels (numpy array): Hedef değişkenler (labels).\n",
    "        conditions (list of tuples): Aykırı değerlerin belirlenmesi için kullanılacak koşullar.\n",
    "                                     Her koşul bir sütun indeksi ve karşılaştırma (sınır) değerlerinden oluşur.\n",
    "    \n",
    "    Returns:\n",
    "        tuple: Aykırı değerlerin çıkarıldığı giriş özellikleri ve hedef değişkenler (features, labels).\n",
    "    \"\"\"\n",
    "    # Her koşulu sırayla uygulayarak aykırı değerleri temizle\n",
    "    for condition in conditions:\n",
    "        column_index, operator, threshold = condition\n",
    "        \n",
    "        if operator == \"<\":\n",
    "            rows_to_keep = features[:, column_index] < threshold\n",
    "        elif operator == \">\":\n",
    "            rows_to_keep = features[:, column_index] > threshold\n",
    "        else:\n",
    "            raise ValueError(f\"Invalid operator: {operator}\")\n",
    "        \n",
    "        features = features[rows_to_keep]\n",
    "        labels = labels[rows_to_keep]\n",
    "    \n",
    "    return features, labels\n",
    "\n",
    "\n",
    "def question3Outliers():\n",
    "    \"\"\"\n",
    "    Aykırı değerlerin çıkarılmasının model performansına etkisini inceler:\n",
    "    1. Eğitim ve test verilerini yükler.\n",
    "    2. Aykırı değerleri tespit etmek için boxplot çizer.\n",
    "    3. Aykırı değerler çıkarılmadan önce model eğitilir ve performansı ölçülür.\n",
    "    4. Belirli koşullara göre aykırı değerler çıkarılır.\n",
    "    5. Aykırı değerler çıkarıldıktan sonra tekrar model eğitilir ve performansı ölçülür.\n",
    "    \"\"\"\n",
    "    # 1. Verilerin yüklenmesi\n",
    "    train_features, train_labels, test_features, test_labels = load_data(\"trainOutlier.csv\", \"test.csv\")\n",
    "    \n",
    "    # 2. Aykırı değerlerin tespiti (Boxplot)\n",
    "    plot_boxplot(train_features, \"Before Outlier Removal\")\n",
    "    \n",
    "    # 3. Aykırı değerler çıkarılmadan önce model eğitimi ve performans skoru\n",
    "    score_before = train_decision_tree_regressor(train_features, train_labels, test_features, test_labels)\n",
    "    print(f\"Score before outlier removal: {score_before}\")\n",
    "    \n",
    "    # 4. Aykırı değerlerin çıkarılması (belirli koşullara göre)\n",
    "    conditions = [\n",
    "        (0, \"<\", 7.5),  # 1. sütun için 7.5'ten küçük olanları çıkar\n",
    "        (1, \">\", -5),   # 2. sütun için -5'ten büyük olanları çıkar\n",
    "        (2, \"<\", 5),    # 3. sütun için 5'ten küçük olanları çıkar\n",
    "        (6, \"<\", 7)     # 7. sütun için 7'den küçük olanları çıkar\n",
    "    ]\n",
    "    \n",
    "    # Aykırı değerlerin çıkarılması\n",
    "    train_features, train_labels = remove_outliers(train_features, train_labels, conditions)\n",
    "    \n",
    "    # 5. Aykırı değerler çıkarıldıktan sonra boxplot çizimi\n",
    "    plot_boxplot(train_features, \"After Outlier Removal\")\n",
    "    \n",
    "    # 6. Aykırı değerler çıkarıldıktan sonra model eğitimi ve performans skoru\n",
    "    score_after = train_decision_tree_regressor(train_features, train_labels, test_features, test_labels)\n",
    "    print(f\"Score after outlier removal: {score_after}\")\n",
    "\n",
    "\n",
    "def main():\n",
    "    \"\"\"\n",
    "    Ana fonksiyon, aykırı değerlerin çıkarılmasının model performansına etkisini analiz eden\n",
    "    question3Outliers fonksiyonunu çağırır.\n",
    "    \"\"\"\n",
    "    question3Outliers()\n",
    "\n",
    "\n",
    "# Programı başlat\n",
    "if __name__ == \"__main__\":\n",
    "    main()\n"
   ]
  },
  {
   "metadata": {},
   "cell_type": "markdown",
   "source": [
    "### 1. İlk Boxplot (Aykırı Değerler Kaldırılmadan Önce)\n",
    "\n",
    "Grafikte veride birçok sütunda önemli sayıda aykırı değer (outlier) mevcut. Bu değerler boxplot'un üst ve altındaki daireler olarak görünür. Özellikle 0, 1 ve 2. sütunlarda çok fazla aykırı değer dikkat çekiyor.\n",
    "\n",
    "### 2. İkinci Boxplot (Aykırı Değerler Kaldırıldıktan Sonra)\n",
    "\n",
    "Aykırı değerlerin kaldırılmasıyla verinin daha düzgün bir şekilde dağıldığı görülüyor. Artık uçlarda çok fazla aykırı değer yok ve veri daha dengeli bir yapıya sahip. Her sütundaki veriler daha merkezi ve aşırı uçlar daha az sayıda.\n",
    "\n",
    "Bu sonuçlar, aykırı değerlerin çıkarılmasının veri setini daha temiz hale getirdiğini ve modelin daha sağlıklı bir şekilde öğrenmesine yardımcı olabileceğini gösteriyor. Aykırı değerlerin azalması, karar ağacı regresyon modelinin doğruluğunu artırabilir. Modelin performans skorlarının karşılaştırılmasından sonra aykırı değerlerin çıkarılmasının performansı nasıl etkilediğini analiz edebiliriz."
   ]
  }
 ],
 "metadata": {
  "kernelspec": {
   "display_name": "Python 3",
   "language": "python",
   "name": "python3"
  },
  "language_info": {
   "codemirror_mode": {
    "name": "ipython",
    "version": 3
   },
   "file_extension": ".py",
   "mimetype": "text/x-python",
   "name": "python",
   "nbconvert_exporter": "python",
   "pygments_lexer": "ipython3",
   "version": "3.8.5"
  }
 },
 "nbformat": 4,
 "nbformat_minor": 2
}
