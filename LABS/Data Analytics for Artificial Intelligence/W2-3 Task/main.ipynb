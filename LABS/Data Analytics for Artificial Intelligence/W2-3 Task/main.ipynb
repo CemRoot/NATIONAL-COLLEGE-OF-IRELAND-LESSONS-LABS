{
 "cells": [
  {
   "cell_type": "code",
   "id": "initial_id",
   "metadata": {
    "collapsed": true,
    "ExecuteTime": {
     "end_time": "2024-10-01T11:45:40.906914Z",
     "start_time": "2024-10-01T11:45:40.380849Z"
    }
   },
   "source": "import pandas as pd",
   "outputs": [],
   "execution_count": 1
  },
  {
   "metadata": {
    "ExecuteTime": {
     "end_time": "2024-10-01T11:46:57.300540Z",
     "start_time": "2024-10-01T11:46:53.446166Z"
    }
   },
   "cell_type": "code",
   "source": [
    "# Veri setini yükleyelim\n",
    "file_path = 'creditcard_2023.csv'  # Veri setini yerel bilgisayardan ya da Kaggle API ile çekebilirsin\n",
    "df = pd.read_csv(file_path)"
   ],
   "id": "999bec9ded17a628",
   "outputs": [],
   "execution_count": 2
  },
  {
   "metadata": {
    "ExecuteTime": {
     "end_time": "2024-10-01T11:47:34.823638Z",
     "start_time": "2024-10-01T11:47:34.812171Z"
    }
   },
   "cell_type": "code",
   "source": [
    "# İlk birkaç satırı görüntüleyelim\n",
    "print(df.head())"
   ],
   "id": "4cd46b63bec86f21",
   "outputs": [
    {
     "name": "stdout",
     "output_type": "stream",
     "text": [
      "   id        V1        V2        V3        V4        V5        V6        V7  \\\n",
      "0   0 -0.260648 -0.469648  2.496266 -0.083724  0.129681  0.732898  0.519014   \n",
      "1   1  0.985100 -0.356045  0.558056 -0.429654  0.277140  0.428605  0.406466   \n",
      "2   2 -0.260272 -0.949385  1.728538 -0.457986  0.074062  1.419481  0.743511   \n",
      "3   3 -0.152152 -0.508959  1.746840 -1.090178  0.249486  1.143312  0.518269   \n",
      "4   4 -0.206820 -0.165280  1.527053 -0.448293  0.106125  0.530549  0.658849   \n",
      "\n",
      "         V8        V9  ...       V21       V22       V23       V24       V25  \\\n",
      "0 -0.130006  0.727159  ... -0.110552  0.217606 -0.134794  0.165959  0.126280   \n",
      "1 -0.133118  0.347452  ... -0.194936 -0.605761  0.079469 -0.577395  0.190090   \n",
      "2 -0.095576 -0.261297  ... -0.005020  0.702906  0.945045 -1.154666 -0.605564   \n",
      "3 -0.065130 -0.205698  ... -0.146927 -0.038212 -0.214048 -1.893131  1.003963   \n",
      "4 -0.212660  1.049921  ... -0.106984  0.729727 -0.161666  0.312561 -0.414116   \n",
      "\n",
      "        V26       V27       V28    Amount  Class  \n",
      "0 -0.434824 -0.081230 -0.151045  17982.10      0  \n",
      "1  0.296503 -0.248052 -0.064512   6531.37      0  \n",
      "2 -0.312895 -0.300258 -0.244718   2513.54      0  \n",
      "3 -0.515950 -0.165316  0.048424   5384.44      0  \n",
      "4  1.071126  0.023712  0.419117  14278.97      0  \n",
      "\n",
      "[5 rows x 31 columns]\n"
     ]
    }
   ],
   "execution_count": 3
  },
  {
   "metadata": {
    "ExecuteTime": {
     "end_time": "2024-10-01T11:48:00.294899Z",
     "start_time": "2024-10-01T11:48:00.233686Z"
    }
   },
   "cell_type": "code",
   "source": [
    "# Veri setindeki sütunları ve veri türlerini kontrol edelim\n",
    "print(df.info())"
   ],
   "id": "738239c6c77935d6",
   "outputs": [
    {
     "name": "stdout",
     "output_type": "stream",
     "text": [
      "<class 'pandas.core.frame.DataFrame'>\n",
      "RangeIndex: 568630 entries, 0 to 568629\n",
      "Data columns (total 31 columns):\n",
      " #   Column  Non-Null Count   Dtype  \n",
      "---  ------  --------------   -----  \n",
      " 0   id      568630 non-null  int64  \n",
      " 1   V1      568630 non-null  float64\n",
      " 2   V2      568630 non-null  float64\n",
      " 3   V3      568630 non-null  float64\n",
      " 4   V4      568630 non-null  float64\n",
      " 5   V5      568630 non-null  float64\n",
      " 6   V6      568630 non-null  float64\n",
      " 7   V7      568630 non-null  float64\n",
      " 8   V8      568630 non-null  float64\n",
      " 9   V9      568630 non-null  float64\n",
      " 10  V10     568630 non-null  float64\n",
      " 11  V11     568630 non-null  float64\n",
      " 12  V12     568630 non-null  float64\n",
      " 13  V13     568630 non-null  float64\n",
      " 14  V14     568630 non-null  float64\n",
      " 15  V15     568630 non-null  float64\n",
      " 16  V16     568630 non-null  float64\n",
      " 17  V17     568630 non-null  float64\n",
      " 18  V18     568630 non-null  float64\n",
      " 19  V19     568630 non-null  float64\n",
      " 20  V20     568630 non-null  float64\n",
      " 21  V21     568630 non-null  float64\n",
      " 22  V22     568630 non-null  float64\n",
      " 23  V23     568630 non-null  float64\n",
      " 24  V24     568630 non-null  float64\n",
      " 25  V25     568630 non-null  float64\n",
      " 26  V26     568630 non-null  float64\n",
      " 27  V27     568630 non-null  float64\n",
      " 28  V28     568630 non-null  float64\n",
      " 29  Amount  568630 non-null  float64\n",
      " 30  Class   568630 non-null  int64  \n",
      "dtypes: float64(29), int64(2)\n",
      "memory usage: 134.5 MB\n",
      "None\n"
     ]
    }
   ],
   "execution_count": 4
  },
  {
   "metadata": {
    "ExecuteTime": {
     "end_time": "2024-10-01T11:48:15.251666Z",
     "start_time": "2024-10-01T11:48:15.204046Z"
    }
   },
   "cell_type": "code",
   "source": [
    "# Eksik değerleri kontrol edelim\n",
    "print(df.isnull().sum())"
   ],
   "id": "4950202323dd27c3",
   "outputs": [
    {
     "name": "stdout",
     "output_type": "stream",
     "text": [
      "id        0\n",
      "V1        0\n",
      "V2        0\n",
      "V3        0\n",
      "V4        0\n",
      "V5        0\n",
      "V6        0\n",
      "V7        0\n",
      "V8        0\n",
      "V9        0\n",
      "V10       0\n",
      "V11       0\n",
      "V12       0\n",
      "V13       0\n",
      "V14       0\n",
      "V15       0\n",
      "V16       0\n",
      "V17       0\n",
      "V18       0\n",
      "V19       0\n",
      "V20       0\n",
      "V21       0\n",
      "V22       0\n",
      "V23       0\n",
      "V24       0\n",
      "V25       0\n",
      "V26       0\n",
      "V27       0\n",
      "V28       0\n",
      "Amount    0\n",
      "Class     0\n",
      "dtype: int64\n"
     ]
    }
   ],
   "execution_count": 5
  },
  {
   "metadata": {
    "ExecuteTime": {
     "end_time": "2024-10-01T11:48:26.333989Z",
     "start_time": "2024-10-01T11:48:26.296588Z"
    }
   },
   "cell_type": "code",
   "source": [
    "# Eksik değerlerin özetini kontrol edelim\n",
    "missing_values = df.isnull().sum()\n",
    "print(missing_values[missing_values > 0])  # Eğer varsa eksik değerleri gösterir"
   ],
   "id": "fa371e5a159f1b58",
   "outputs": [
    {
     "name": "stdout",
     "output_type": "stream",
     "text": [
      "Series([], dtype: int64)\n"
     ]
    }
   ],
   "execution_count": 6
  },
  {
   "metadata": {
    "ExecuteTime": {
     "end_time": "2024-10-01T11:48:39.943910Z",
     "start_time": "2024-10-01T11:48:39.753935Z"
    }
   },
   "cell_type": "code",
   "source": [
    "# Eğer eksik değerler varsa, bunları ortalama (mean) ile dolduralım\n",
    "# Bu işlem, eksik değerler sayısının az olduğu varsayımıyla yapılır\n",
    "df.fillna(df.mean(), inplace=True)"
   ],
   "id": "11c84ee77f967c3a",
   "outputs": [],
   "execution_count": 7
  },
  {
   "metadata": {
    "ExecuteTime": {
     "end_time": "2024-10-01T11:48:47.343178Z",
     "start_time": "2024-10-01T11:48:47.306583Z"
    }
   },
   "cell_type": "code",
   "source": [
    "# Eksik değerlerin doldurulduğunu tekrar kontrol edelim\n",
    "print(df.isnull().sum())"
   ],
   "id": "aafeb91ac01d531",
   "outputs": [
    {
     "name": "stdout",
     "output_type": "stream",
     "text": [
      "id        0\n",
      "V1        0\n",
      "V2        0\n",
      "V3        0\n",
      "V4        0\n",
      "V5        0\n",
      "V6        0\n",
      "V7        0\n",
      "V8        0\n",
      "V9        0\n",
      "V10       0\n",
      "V11       0\n",
      "V12       0\n",
      "V13       0\n",
      "V14       0\n",
      "V15       0\n",
      "V16       0\n",
      "V17       0\n",
      "V18       0\n",
      "V19       0\n",
      "V20       0\n",
      "V21       0\n",
      "V22       0\n",
      "V23       0\n",
      "V24       0\n",
      "V25       0\n",
      "V26       0\n",
      "V27       0\n",
      "V28       0\n",
      "Amount    0\n",
      "Class     0\n",
      "dtype: int64\n"
     ]
    }
   ],
   "execution_count": 8
  },
  {
   "metadata": {},
   "cell_type": "markdown",
   "source": "Adım 3: Aykırı Değerlerin Tespiti ve İşlenmesi",
   "id": "a4e030e6e38ad9b"
  },
  {
   "metadata": {
    "ExecuteTime": {
     "end_time": "2024-10-01T11:50:09.136207Z",
     "start_time": "2024-10-01T11:50:07.143727Z"
    }
   },
   "cell_type": "code",
   "source": [
    "import seaborn as sns # Veri görselleştirme için\n",
    "import matplotlib.pyplot as plt # Veri görselleştirme için\n",
    "# seaborn ve matplotlib kütüphanelerini kullanarak veri setindeki özelliklerin dağılımlarını ve aykırı değerlerini görselleştireceğiz"
   ],
   "id": "d0edcb44500e232d",
   "outputs": [],
   "execution_count": 10
  },
  {
   "metadata": {
    "ExecuteTime": {
     "end_time": "2024-10-01T11:50:30.878810Z",
     "start_time": "2024-10-01T11:50:13.879584Z"
    }
   },
   "cell_type": "code",
   "source": [
    "# Özelliklerin dağılımlarını ve olası aykırı değerleri görmek için boxplot kullanalım\n",
    "plt.figure(figsize=(15, 10))\n",
    "sns.boxplot(data=df)\n",
    "plt.xticks(rotation=90)\n",
    "plt.show()"
   ],
   "id": "132bb71caeb6f2d1",
   "outputs": [
    {
     "ename": "KeyboardInterrupt",
     "evalue": "",
     "output_type": "error",
     "traceback": [
      "\u001B[1;31m---------------------------------------------------------------------------\u001B[0m",
      "\u001B[1;31mAttributeError\u001B[0m                            Traceback (most recent call last)",
      "File \u001B[1;32m~\\AppData\\Local\\Programs\\Python\\Python311\\Lib\\site-packages\\seaborn\\_base.py:1768\u001B[0m, in \u001B[0;36mcategorical_order\u001B[1;34m(vector, order)\u001B[0m\n\u001B[0;32m   1767\u001B[0m \u001B[38;5;28;01mtry\u001B[39;00m:\n\u001B[1;32m-> 1768\u001B[0m     order \u001B[38;5;241m=\u001B[39m \u001B[43mvector\u001B[49m\u001B[38;5;241;43m.\u001B[39;49m\u001B[43mcat\u001B[49m\u001B[38;5;241m.\u001B[39mcategories\n\u001B[0;32m   1769\u001B[0m \u001B[38;5;28;01mexcept\u001B[39;00m (\u001B[38;5;167;01mTypeError\u001B[39;00m, \u001B[38;5;167;01mAttributeError\u001B[39;00m):\n",
      "File \u001B[1;32m~\\AppData\\Local\\Programs\\Python\\Python311\\Lib\\site-packages\\pandas\\core\\generic.py:6299\u001B[0m, in \u001B[0;36mNDFrame.__getattr__\u001B[1;34m(self, name)\u001B[0m\n\u001B[0;32m   6298\u001B[0m     \u001B[38;5;28;01mreturn\u001B[39;00m \u001B[38;5;28mself\u001B[39m[name]\n\u001B[1;32m-> 6299\u001B[0m \u001B[38;5;28;01mreturn\u001B[39;00m \u001B[38;5;28;43mobject\u001B[39;49m\u001B[38;5;241;43m.\u001B[39;49m\u001B[38;5;21;43m__getattribute__\u001B[39;49m\u001B[43m(\u001B[49m\u001B[38;5;28;43mself\u001B[39;49m\u001B[43m,\u001B[49m\u001B[43m \u001B[49m\u001B[43mname\u001B[49m\u001B[43m)\u001B[49m\n",
      "File \u001B[1;32m~\\AppData\\Local\\Programs\\Python\\Python311\\Lib\\site-packages\\pandas\\core\\accessor.py:224\u001B[0m, in \u001B[0;36mCachedAccessor.__get__\u001B[1;34m(self, obj, cls)\u001B[0m\n\u001B[0;32m    223\u001B[0m     \u001B[38;5;28;01mreturn\u001B[39;00m \u001B[38;5;28mself\u001B[39m\u001B[38;5;241m.\u001B[39m_accessor\n\u001B[1;32m--> 224\u001B[0m accessor_obj \u001B[38;5;241m=\u001B[39m \u001B[38;5;28;43mself\u001B[39;49m\u001B[38;5;241;43m.\u001B[39;49m\u001B[43m_accessor\u001B[49m\u001B[43m(\u001B[49m\u001B[43mobj\u001B[49m\u001B[43m)\u001B[49m\n\u001B[0;32m    225\u001B[0m \u001B[38;5;66;03m# Replace the property with the accessor object. Inspired by:\u001B[39;00m\n\u001B[0;32m    226\u001B[0m \u001B[38;5;66;03m# https://www.pydanny.com/cached-property.html\u001B[39;00m\n\u001B[0;32m    227\u001B[0m \u001B[38;5;66;03m# We need to use object.__setattr__ because we overwrite __setattr__ on\u001B[39;00m\n\u001B[0;32m    228\u001B[0m \u001B[38;5;66;03m# NDFrame\u001B[39;00m\n",
      "File \u001B[1;32m~\\AppData\\Local\\Programs\\Python\\Python311\\Lib\\site-packages\\pandas\\core\\arrays\\categorical.py:2898\u001B[0m, in \u001B[0;36mCategoricalAccessor.__init__\u001B[1;34m(self, data)\u001B[0m\n\u001B[0;32m   2897\u001B[0m \u001B[38;5;28;01mdef\u001B[39;00m \u001B[38;5;21m__init__\u001B[39m(\u001B[38;5;28mself\u001B[39m, data) \u001B[38;5;241m-\u001B[39m\u001B[38;5;241m>\u001B[39m \u001B[38;5;28;01mNone\u001B[39;00m:\n\u001B[1;32m-> 2898\u001B[0m     \u001B[38;5;28;43mself\u001B[39;49m\u001B[38;5;241;43m.\u001B[39;49m\u001B[43m_validate\u001B[49m\u001B[43m(\u001B[49m\u001B[43mdata\u001B[49m\u001B[43m)\u001B[49m\n\u001B[0;32m   2899\u001B[0m     \u001B[38;5;28mself\u001B[39m\u001B[38;5;241m.\u001B[39m_parent \u001B[38;5;241m=\u001B[39m data\u001B[38;5;241m.\u001B[39mvalues\n",
      "File \u001B[1;32m~\\AppData\\Local\\Programs\\Python\\Python311\\Lib\\site-packages\\pandas\\core\\arrays\\categorical.py:2907\u001B[0m, in \u001B[0;36mCategoricalAccessor._validate\u001B[1;34m(data)\u001B[0m\n\u001B[0;32m   2906\u001B[0m \u001B[38;5;28;01mif\u001B[39;00m \u001B[38;5;129;01mnot\u001B[39;00m \u001B[38;5;28misinstance\u001B[39m(data\u001B[38;5;241m.\u001B[39mdtype, CategoricalDtype):\n\u001B[1;32m-> 2907\u001B[0m     \u001B[38;5;28;01mraise\u001B[39;00m \u001B[38;5;167;01mAttributeError\u001B[39;00m(\u001B[38;5;124m\"\u001B[39m\u001B[38;5;124mCan only use .cat accessor with a \u001B[39m\u001B[38;5;124m'\u001B[39m\u001B[38;5;124mcategory\u001B[39m\u001B[38;5;124m'\u001B[39m\u001B[38;5;124m dtype\u001B[39m\u001B[38;5;124m\"\u001B[39m)\n",
      "\u001B[1;31mAttributeError\u001B[0m: Can only use .cat accessor with a 'category' dtype",
      "\nDuring handling of the above exception, another exception occurred:\n",
      "\u001B[1;31mKeyboardInterrupt\u001B[0m                         Traceback (most recent call last)",
      "Cell \u001B[1;32mIn[11], line 3\u001B[0m\n\u001B[0;32m      1\u001B[0m \u001B[38;5;66;03m# Özelliklerin dağılımlarını ve olası aykırı değerleri görmek için boxplot kullanalım\u001B[39;00m\n\u001B[0;32m      2\u001B[0m plt\u001B[38;5;241m.\u001B[39mfigure(figsize\u001B[38;5;241m=\u001B[39m(\u001B[38;5;241m15\u001B[39m, \u001B[38;5;241m10\u001B[39m))\n\u001B[1;32m----> 3\u001B[0m \u001B[43msns\u001B[49m\u001B[38;5;241;43m.\u001B[39;49m\u001B[43mboxplot\u001B[49m\u001B[43m(\u001B[49m\u001B[43mdata\u001B[49m\u001B[38;5;241;43m=\u001B[39;49m\u001B[43mdf\u001B[49m\u001B[43m)\u001B[49m\n\u001B[0;32m      4\u001B[0m plt\u001B[38;5;241m.\u001B[39mxticks(rotation\u001B[38;5;241m=\u001B[39m\u001B[38;5;241m90\u001B[39m)\n\u001B[0;32m      5\u001B[0m plt\u001B[38;5;241m.\u001B[39mshow()\n",
      "File \u001B[1;32m~\\AppData\\Local\\Programs\\Python\\Python311\\Lib\\site-packages\\seaborn\\categorical.py:1597\u001B[0m, in \u001B[0;36mboxplot\u001B[1;34m(data, x, y, hue, order, hue_order, orient, color, palette, saturation, fill, dodge, width, gap, whis, linecolor, linewidth, fliersize, hue_norm, native_scale, log_scale, formatter, legend, ax, **kwargs)\u001B[0m\n\u001B[0;32m   1589\u001B[0m \u001B[38;5;28;01mdef\u001B[39;00m \u001B[38;5;21mboxplot\u001B[39m(\n\u001B[0;32m   1590\u001B[0m     data\u001B[38;5;241m=\u001B[39m\u001B[38;5;28;01mNone\u001B[39;00m, \u001B[38;5;241m*\u001B[39m, x\u001B[38;5;241m=\u001B[39m\u001B[38;5;28;01mNone\u001B[39;00m, y\u001B[38;5;241m=\u001B[39m\u001B[38;5;28;01mNone\u001B[39;00m, hue\u001B[38;5;241m=\u001B[39m\u001B[38;5;28;01mNone\u001B[39;00m, order\u001B[38;5;241m=\u001B[39m\u001B[38;5;28;01mNone\u001B[39;00m, hue_order\u001B[38;5;241m=\u001B[39m\u001B[38;5;28;01mNone\u001B[39;00m,\n\u001B[0;32m   1591\u001B[0m     orient\u001B[38;5;241m=\u001B[39m\u001B[38;5;28;01mNone\u001B[39;00m, color\u001B[38;5;241m=\u001B[39m\u001B[38;5;28;01mNone\u001B[39;00m, palette\u001B[38;5;241m=\u001B[39m\u001B[38;5;28;01mNone\u001B[39;00m, saturation\u001B[38;5;241m=\u001B[39m\u001B[38;5;241m.75\u001B[39m, fill\u001B[38;5;241m=\u001B[39m\u001B[38;5;28;01mTrue\u001B[39;00m,\n\u001B[1;32m   (...)\u001B[0m\n\u001B[0;32m   1594\u001B[0m     legend\u001B[38;5;241m=\u001B[39m\u001B[38;5;124m\"\u001B[39m\u001B[38;5;124mauto\u001B[39m\u001B[38;5;124m\"\u001B[39m, ax\u001B[38;5;241m=\u001B[39m\u001B[38;5;28;01mNone\u001B[39;00m, \u001B[38;5;241m*\u001B[39m\u001B[38;5;241m*\u001B[39mkwargs\n\u001B[0;32m   1595\u001B[0m ):\n\u001B[1;32m-> 1597\u001B[0m     p \u001B[38;5;241m=\u001B[39m \u001B[43m_CategoricalPlotter\u001B[49m\u001B[43m(\u001B[49m\n\u001B[0;32m   1598\u001B[0m \u001B[43m        \u001B[49m\u001B[43mdata\u001B[49m\u001B[38;5;241;43m=\u001B[39;49m\u001B[43mdata\u001B[49m\u001B[43m,\u001B[49m\n\u001B[0;32m   1599\u001B[0m \u001B[43m        \u001B[49m\u001B[43mvariables\u001B[49m\u001B[38;5;241;43m=\u001B[39;49m\u001B[38;5;28;43mdict\u001B[39;49m\u001B[43m(\u001B[49m\u001B[43mx\u001B[49m\u001B[38;5;241;43m=\u001B[39;49m\u001B[43mx\u001B[49m\u001B[43m,\u001B[49m\u001B[43m \u001B[49m\u001B[43my\u001B[49m\u001B[38;5;241;43m=\u001B[39;49m\u001B[43my\u001B[49m\u001B[43m,\u001B[49m\u001B[43m \u001B[49m\u001B[43mhue\u001B[49m\u001B[38;5;241;43m=\u001B[39;49m\u001B[43mhue\u001B[49m\u001B[43m)\u001B[49m\u001B[43m,\u001B[49m\n\u001B[0;32m   1600\u001B[0m \u001B[43m        \u001B[49m\u001B[43morder\u001B[49m\u001B[38;5;241;43m=\u001B[39;49m\u001B[43morder\u001B[49m\u001B[43m,\u001B[49m\n\u001B[0;32m   1601\u001B[0m \u001B[43m        \u001B[49m\u001B[43morient\u001B[49m\u001B[38;5;241;43m=\u001B[39;49m\u001B[43morient\u001B[49m\u001B[43m,\u001B[49m\n\u001B[0;32m   1602\u001B[0m \u001B[43m        \u001B[49m\u001B[43mcolor\u001B[49m\u001B[38;5;241;43m=\u001B[39;49m\u001B[43mcolor\u001B[49m\u001B[43m,\u001B[49m\n\u001B[0;32m   1603\u001B[0m \u001B[43m        \u001B[49m\u001B[43mlegend\u001B[49m\u001B[38;5;241;43m=\u001B[39;49m\u001B[43mlegend\u001B[49m\u001B[43m,\u001B[49m\n\u001B[0;32m   1604\u001B[0m \u001B[43m    \u001B[49m\u001B[43m)\u001B[49m\n\u001B[0;32m   1606\u001B[0m     \u001B[38;5;28;01mif\u001B[39;00m ax \u001B[38;5;129;01mis\u001B[39;00m \u001B[38;5;28;01mNone\u001B[39;00m:\n\u001B[0;32m   1607\u001B[0m         ax \u001B[38;5;241m=\u001B[39m plt\u001B[38;5;241m.\u001B[39mgca()\n",
      "File \u001B[1;32m~\\AppData\\Local\\Programs\\Python\\Python311\\Lib\\site-packages\\seaborn\\categorical.py:131\u001B[0m, in \u001B[0;36m_CategoricalPlotter.__init__\u001B[1;34m(self, data, variables, order, orient, require_numeric, color, legend)\u001B[0m\n\u001B[0;32m    128\u001B[0m     \u001B[38;5;28mself\u001B[39m\u001B[38;5;241m.\u001B[39mplot_data[\u001B[38;5;28mself\u001B[39m\u001B[38;5;241m.\u001B[39morient] \u001B[38;5;241m=\u001B[39m \u001B[38;5;124m\"\u001B[39m\u001B[38;5;124m\"\u001B[39m\n\u001B[0;32m    130\u001B[0m \u001B[38;5;66;03m# Categorical variables have discrete levels that we need to track\u001B[39;00m\n\u001B[1;32m--> 131\u001B[0m cat_levels \u001B[38;5;241m=\u001B[39m \u001B[43mcategorical_order\u001B[49m\u001B[43m(\u001B[49m\u001B[38;5;28;43mself\u001B[39;49m\u001B[38;5;241;43m.\u001B[39;49m\u001B[43mplot_data\u001B[49m\u001B[43m[\u001B[49m\u001B[38;5;28;43mself\u001B[39;49m\u001B[38;5;241;43m.\u001B[39;49m\u001B[43morient\u001B[49m\u001B[43m]\u001B[49m\u001B[43m,\u001B[49m\u001B[43m \u001B[49m\u001B[43morder\u001B[49m\u001B[43m)\u001B[49m\n\u001B[0;32m    132\u001B[0m \u001B[38;5;28mself\u001B[39m\u001B[38;5;241m.\u001B[39mvar_levels[\u001B[38;5;28mself\u001B[39m\u001B[38;5;241m.\u001B[39morient] \u001B[38;5;241m=\u001B[39m cat_levels\n",
      "File \u001B[1;32m~\\AppData\\Local\\Programs\\Python\\Python311\\Lib\\site-packages\\seaborn\\_base.py:1773\u001B[0m, in \u001B[0;36mcategorical_order\u001B[1;34m(vector, order)\u001B[0m\n\u001B[0;32m   1769\u001B[0m     \u001B[38;5;28;01mexcept\u001B[39;00m (\u001B[38;5;167;01mTypeError\u001B[39;00m, \u001B[38;5;167;01mAttributeError\u001B[39;00m):\n\u001B[0;32m   1771\u001B[0m         order \u001B[38;5;241m=\u001B[39m pd\u001B[38;5;241m.\u001B[39mSeries(vector)\u001B[38;5;241m.\u001B[39munique()\n\u001B[1;32m-> 1773\u001B[0m         \u001B[38;5;28;01mif\u001B[39;00m \u001B[43mvariable_type\u001B[49m\u001B[43m(\u001B[49m\u001B[43mvector\u001B[49m\u001B[43m)\u001B[49m \u001B[38;5;241m==\u001B[39m \u001B[38;5;124m\"\u001B[39m\u001B[38;5;124mnumeric\u001B[39m\u001B[38;5;124m\"\u001B[39m:\n\u001B[0;32m   1774\u001B[0m             order \u001B[38;5;241m=\u001B[39m np\u001B[38;5;241m.\u001B[39msort(order)\n\u001B[0;32m   1776\u001B[0m order \u001B[38;5;241m=\u001B[39m \u001B[38;5;28mfilter\u001B[39m(pd\u001B[38;5;241m.\u001B[39mnotnull, order)\n",
      "File \u001B[1;32m~\\AppData\\Local\\Programs\\Python\\Python311\\Lib\\site-packages\\seaborn\\_base.py:1521\u001B[0m, in \u001B[0;36mvariable_type\u001B[1;34m(vector, boolean_type)\u001B[0m\n\u001B[0;32m   1517\u001B[0m warnings\u001B[38;5;241m.\u001B[39msimplefilter(\n\u001B[0;32m   1518\u001B[0m     action\u001B[38;5;241m=\u001B[39m\u001B[38;5;124m'\u001B[39m\u001B[38;5;124mignore\u001B[39m\u001B[38;5;124m'\u001B[39m, category\u001B[38;5;241m=\u001B[39m(\u001B[38;5;167;01mFutureWarning\u001B[39;00m, \u001B[38;5;167;01mDeprecationWarning\u001B[39;00m)\n\u001B[0;32m   1519\u001B[0m )\n\u001B[0;32m   1520\u001B[0m \u001B[38;5;28;01mtry\u001B[39;00m:\n\u001B[1;32m-> 1521\u001B[0m     \u001B[38;5;28;01mif\u001B[39;00m \u001B[43mnp\u001B[49m\u001B[38;5;241;43m.\u001B[39;49m\u001B[43misin\u001B[49m\u001B[43m(\u001B[49m\u001B[43mvector\u001B[49m\u001B[43m,\u001B[49m\u001B[43m \u001B[49m\u001B[43m[\u001B[49m\u001B[38;5;241;43m0\u001B[39;49m\u001B[43m,\u001B[49m\u001B[43m \u001B[49m\u001B[38;5;241;43m1\u001B[39;49m\u001B[43m]\u001B[49m\u001B[43m)\u001B[49m\u001B[38;5;241m.\u001B[39mall():\n\u001B[0;32m   1522\u001B[0m         \u001B[38;5;28;01mreturn\u001B[39;00m VariableType(boolean_type)\n\u001B[0;32m   1523\u001B[0m \u001B[38;5;28;01mexcept\u001B[39;00m \u001B[38;5;167;01mTypeError\u001B[39;00m:\n\u001B[0;32m   1524\u001B[0m     \u001B[38;5;66;03m# .isin comparison is not guaranteed to be possible under NumPy\u001B[39;00m\n\u001B[0;32m   1525\u001B[0m     \u001B[38;5;66;03m# casting rules, depending on the (unknown) dtype of 'vector'\u001B[39;00m\n",
      "File \u001B[1;32m~\\AppData\\Local\\Programs\\Python\\Python311\\Lib\\site-packages\\numpy\\lib\\arraysetops.py:890\u001B[0m, in \u001B[0;36misin\u001B[1;34m(element, test_elements, assume_unique, invert, kind)\u001B[0m\n\u001B[0;32m    769\u001B[0m \u001B[38;5;250m\u001B[39m\u001B[38;5;124;03m\"\"\"\u001B[39;00m\n\u001B[0;32m    770\u001B[0m \u001B[38;5;124;03mCalculates ``element in test_elements``, broadcasting over `element` only.\u001B[39;00m\n\u001B[0;32m    771\u001B[0m \u001B[38;5;124;03mReturns a boolean array of the same shape as `element` that is True\u001B[39;00m\n\u001B[1;32m   (...)\u001B[0m\n\u001B[0;32m    887\u001B[0m \u001B[38;5;124;03m       [ True, False]])\u001B[39;00m\n\u001B[0;32m    888\u001B[0m \u001B[38;5;124;03m\"\"\"\u001B[39;00m\n\u001B[0;32m    889\u001B[0m element \u001B[38;5;241m=\u001B[39m np\u001B[38;5;241m.\u001B[39masarray(element)\n\u001B[1;32m--> 890\u001B[0m \u001B[38;5;28;01mreturn\u001B[39;00m \u001B[43min1d\u001B[49m\u001B[43m(\u001B[49m\u001B[43melement\u001B[49m\u001B[43m,\u001B[49m\u001B[43m \u001B[49m\u001B[43mtest_elements\u001B[49m\u001B[43m,\u001B[49m\u001B[43m \u001B[49m\u001B[43massume_unique\u001B[49m\u001B[38;5;241;43m=\u001B[39;49m\u001B[43massume_unique\u001B[49m\u001B[43m,\u001B[49m\n\u001B[0;32m    891\u001B[0m \u001B[43m            \u001B[49m\u001B[43minvert\u001B[49m\u001B[38;5;241;43m=\u001B[39;49m\u001B[43minvert\u001B[49m\u001B[43m,\u001B[49m\u001B[43m \u001B[49m\u001B[43mkind\u001B[49m\u001B[38;5;241;43m=\u001B[39;49m\u001B[43mkind\u001B[49m\u001B[43m)\u001B[49m\u001B[38;5;241m.\u001B[39mreshape(element\u001B[38;5;241m.\u001B[39mshape)\n",
      "File \u001B[1;32m~\\AppData\\Local\\Programs\\Python\\Python311\\Lib\\site-packages\\numpy\\lib\\arraysetops.py:733\u001B[0m, in \u001B[0;36min1d\u001B[1;34m(ar1, ar2, assume_unique, invert, kind)\u001B[0m\n\u001B[0;32m    731\u001B[0m         mask \u001B[38;5;241m=\u001B[39m np\u001B[38;5;241m.\u001B[39mzeros(\u001B[38;5;28mlen\u001B[39m(ar1), dtype\u001B[38;5;241m=\u001B[39m\u001B[38;5;28mbool\u001B[39m)\n\u001B[0;32m    732\u001B[0m         \u001B[38;5;28;01mfor\u001B[39;00m a \u001B[38;5;129;01min\u001B[39;00m ar2:\n\u001B[1;32m--> 733\u001B[0m             mask \u001B[38;5;241m|\u001B[39m\u001B[38;5;241m=\u001B[39m (ar1 \u001B[38;5;241m==\u001B[39m a)\n\u001B[0;32m    734\u001B[0m     \u001B[38;5;28;01mreturn\u001B[39;00m mask\n\u001B[0;32m    736\u001B[0m \u001B[38;5;66;03m# Otherwise use sorting\u001B[39;00m\n",
      "\u001B[1;31mKeyboardInterrupt\u001B[0m: "
     ]
    },
    {
     "data": {
      "text/plain": [
       "<Figure size 1500x1000 with 0 Axes>"
      ]
     },
     "metadata": {},
     "output_type": "display_data"
    }
   ],
   "execution_count": 11
  },
  {
   "metadata": {
    "ExecuteTime": {
     "end_time": "2024-10-01T11:50:54.100458Z",
     "start_time": "2024-10-01T11:50:53.455088Z"
    }
   },
   "cell_type": "code",
   "source": [
    "# Aykırı değerlerin sayısının çok fazla olup olmadığını kontrol edelim\n",
    "# Özellikle sayısal özelliklerde aykırı değerlere odaklanacağız\n",
    "numeric_columns = df.select_dtypes(include=['float64', 'int64']).columns\n",
    "for col in numeric_columns:\n",
    "    print(f\"Column: {col}\") # Sütun adı\n",
    "    print(f\"Skewness: {df[col].skew()}\") # Asimetri (skewness) değeri\n",
    "    print(f\"Kurtosis: {df[col].kurt()}\") # Basıklık (kurtosis) değeri\n",
    "    print('-'*40)\n",
    "\n"
   ],
   "id": "581d9f4fe699553",
   "outputs": [
    {
     "name": "stdout",
     "output_type": "stream",
     "text": [
      "Column: id\n",
      "Skewness: -6.579535783947936e-16\n",
      "Kurtosis: -1.2\n",
      "----------------------------------------\n",
      "Column: V1\n",
      "Skewness: -0.08341717301015879\n",
      "Kurtosis: -0.19551088568279074\n",
      "----------------------------------------\n",
      "Column: V2\n",
      "Skewness: -1.397951923713946\n",
      "Kurtosis: 54.50647846202814\n",
      "----------------------------------------\n",
      "Column: V3\n",
      "Skewness: 0.014622213363246254\n",
      "Kurtosis: 0.28868614603280385\n",
      "----------------------------------------\n",
      "Column: V4\n",
      "Skewness: -0.04416892714770696\n",
      "Kurtosis: -0.10335451793576445\n",
      "----------------------------------------\n",
      "Column: V5\n",
      "Skewness: 1.5064136757634041\n",
      "Kurtosis: 47.09935165702095\n",
      "----------------------------------------\n",
      "Column: V6\n",
      "Skewness: -0.2016110101307477\n",
      "Kurtosis: 4.4905101732511685\n",
      "----------------------------------------\n",
      "Column: V7\n",
      "Skewness: 19.026866097533325\n",
      "Kurtosis: 4017.608217329162\n",
      "----------------------------------------\n",
      "Column: V8\n",
      "Skewness: 0.2999722258586845\n",
      "Kurtosis: 18.939201932362025\n",
      "----------------------------------------\n",
      "Column: V9\n",
      "Skewness: 0.17105746155506976\n",
      "Kurtosis: 3.6393235693250436\n",
      "----------------------------------------\n",
      "Column: V10\n",
      "Skewness: 0.7404135529207346\n",
      "Kurtosis: 13.164784821929029\n",
      "----------------------------------------\n",
      "Column: V11\n",
      "Skewness: -0.02089056131978458\n",
      "Kurtosis: -0.3749301739295974\n",
      "----------------------------------------\n",
      "Column: V12\n",
      "Skewness: 0.06675895200237957\n",
      "Kurtosis: -0.21380828444874433\n",
      "----------------------------------------\n",
      "Column: V13\n",
      "Skewness: 0.014906385371884177\n",
      "Kurtosis: -0.007776940607126193\n",
      "----------------------------------------\n",
      "Column: V14\n",
      "Skewness: 0.2078348004501865\n",
      "Kurtosis: 0.8994629656844437\n",
      "----------------------------------------\n",
      "Column: V15\n",
      "Skewness: 0.0112329832827567\n",
      "Kurtosis: 0.40217237781525084\n",
      "----------------------------------------\n",
      "Column: V16\n",
      "Skewness: 0.26640700878187756\n",
      "Kurtosis: 8.658622883020058\n",
      "----------------------------------------\n",
      "Column: V17\n",
      "Skewness: 0.37306096758486784\n",
      "Kurtosis: 2.734308972440791\n",
      "----------------------------------------\n",
      "Column: V18\n",
      "Skewness: 0.12919105951072873\n",
      "Kurtosis: 0.8813640906289679\n",
      "----------------------------------------\n",
      "Column: V19\n",
      "Skewness: -0.010171229833627931\n",
      "Kurtosis: 0.7481894305374355\n",
      "----------------------------------------\n",
      "Column: V20\n",
      "Skewness: -1.5564597600792378\n",
      "Kurtosis: 129.51977476037425\n",
      "----------------------------------------\n",
      "Column: V21\n",
      "Skewness: -0.10898326124277506\n",
      "Kurtosis: 55.44240096845202\n",
      "----------------------------------------\n",
      "Column: V22\n",
      "Skewness: 0.3185294709245726\n",
      "Kurtosis: 23.260676897730704\n",
      "----------------------------------------\n",
      "Column: V23\n",
      "Skewness: -0.0996874579406956\n",
      "Kurtosis: 64.75476434998428\n",
      "----------------------------------------\n",
      "Column: V24\n",
      "Skewness: 0.06608973847371898\n",
      "Kurtosis: 1.324841829938801\n",
      "----------------------------------------\n",
      "Column: V25\n",
      "Skewness: 0.023008036822676475\n",
      "Kurtosis: 3.2437585890278373\n",
      "----------------------------------------\n",
      "Column: V26\n",
      "Skewness: -0.018958738922398494\n",
      "Kurtosis: 0.46359290814462684\n",
      "----------------------------------------\n",
      "Column: V27\n",
      "Skewness: 2.7554523064841256\n",
      "Kurtosis: 301.0010910611892\n",
      "----------------------------------------\n",
      "Column: V28\n",
      "Skewness: 1.7249777746796184\n",
      "Kurtosis: 162.11547450615646\n",
      "----------------------------------------\n",
      "Column: Amount\n",
      "Skewness: 0.0016555849611610634\n",
      "Kurtosis: -1.1988636972765643\n",
      "----------------------------------------\n",
      "Column: Class\n",
      "Skewness: 0.0\n",
      "Kurtosis: -2.0000070344883376\n",
      "----------------------------------------\n"
     ]
    }
   ],
   "execution_count": 12
  },
  {
   "metadata": {
    "ExecuteTime": {
     "end_time": "2024-10-01T11:51:35.992198Z",
     "start_time": "2024-10-01T11:51:35.380628Z"
    }
   },
   "cell_type": "code",
   "source": [
    "# Aykırı değerlerin tespitine göre aykırı değerleri filtreleyelim veya işleyelim\n",
    "# Örneğin, interquartile range (IQR) yöntemi ile aykırı değerleri tespit edip çıkaralım\n",
    "Q1 = df[numeric_columns].quantile(0.25) # 1. çeyrek\n",
    "Q3 = df[numeric_columns].quantile(0.75) # 3. çeyrek\n",
    "IQR = Q3 - Q1\n"
   ],
   "id": "6994f6e016d7feb0",
   "outputs": [],
   "execution_count": 13
  },
  {
   "metadata": {
    "ExecuteTime": {
     "end_time": "2024-10-01T11:51:41.683103Z",
     "start_time": "2024-10-01T11:51:41.522315Z"
    }
   },
   "cell_type": "code",
   "source": [
    "df_clean = df[~((df[numeric_columns] < (Q1 - 1.5 * IQR)) |(df[numeric_columns] > (Q3 + 1.5 * IQR))).any(axis=1)]\n",
    "print(f\"Aykırı değerlerden temizlenmiş veri boyutu: {df_clean.shape}\")"
   ],
   "id": "98bb3db5085280c0",
   "outputs": [
    {
     "name": "stdout",
     "output_type": "stream",
     "text": [
      "Aykırı değerlerden temizlenmiş veri boyutu: (326711, 31)\n"
     ]
    }
   ],
   "execution_count": 14
  },
  {
   "metadata": {},
   "cell_type": "markdown",
   "source": "Adım 4: Veri Ölçeklendirme",
   "id": "eab9719000ba463c"
  },
  {
   "metadata": {
    "ExecuteTime": {
     "end_time": "2024-10-01T11:52:11.335027Z",
     "start_time": "2024-10-01T11:52:10.872435Z"
    }
   },
   "cell_type": "code",
   "source": [
    "from sklearn.preprocessing import StandardScaler, MinMaxScaler\n",
    "\n",
    "# Seçimimize göre ölçeklendirme yöntemi kullanabiliriz.\n",
    "# Normalizasyon: Min-Max ölçeklendirme ile 0-1 arasına\n",
    "scaler = MinMaxScaler()\n",
    "\n",
    "# Ya da Standartlaştırma: Ortalaması 0, standart sapması 1 olacak şekilde\n",
    "# scaler = StandardScaler()\n",
    "\n",
    "scaled_features = scaler.fit_transform(df_clean[numeric_columns])\n",
    "\n",
    "# Ölçeklenmiş verileri orijinal dataframe'e ekleyelim\n",
    "df_clean[numeric_columns] = scaled_features\n",
    "print(\"Ölçeklendirilmiş veriler:\")\n",
    "print(df_clean.head())"
   ],
   "id": "2b21e41d27e1346b",
   "outputs": [
    {
     "name": "stdout",
     "output_type": "stream",
     "text": [
      "Ölçeklendirilmiş veriler:\n",
      "         id        V1        V2        V3        V4        V5        V6  \\\n",
      "0  0.000000  0.326174  0.443321  0.987371  0.615320  0.519161  0.687281   \n",
      "1  0.000002  0.663331  0.483218  0.487970  0.533954  0.569455  0.606618   \n",
      "3  0.000005  0.355538  0.429515  0.794273  0.378592  0.560023  0.796075   \n",
      "4  0.000007  0.340743  0.550213  0.737643  0.529570  0.511127  0.633642   \n",
      "5  0.000009  0.403566  0.558911  0.651091  0.468489  0.621758  0.614669   \n",
      "\n",
      "         V7        V8        V9  ...       V21       V22       V23       V24  \\\n",
      "0  0.620530  0.439988  0.605062  ...  0.419473  0.560016  0.440343  0.526154   \n",
      "1  0.585547  0.436740  0.506664  ...  0.352359  0.344008  0.576542  0.388727   \n",
      "3  0.620299  0.507696  0.363320  ...  0.390542  0.492903  0.389965  0.145481   \n",
      "4  0.663995  0.353725  0.688702  ...  0.422311  0.694370  0.423263  0.553257   \n",
      "5  0.649138  0.478997  0.463480  ...  0.358083  0.361649  0.493948  0.378714   \n",
      "\n",
      "        V25       V26       V27       V28    Amount  Class  \n",
      "0  0.529031  0.412753  0.462530  0.406493  0.747483    0.0  \n",
      "1  0.543480  0.552889  0.397262  0.440219  0.270166    0.0  \n",
      "3  0.727767  0.397208  0.429632  0.484235  0.222357    0.0  \n",
      "4  0.406668  0.701321  0.503589  0.628710  0.593120    0.0  \n",
      "5  0.397075  0.544490  0.520401  0.502704  0.285595    0.0  \n",
      "\n",
      "[5 rows x 31 columns]\n"
     ]
    },
    {
     "name": "stderr",
     "output_type": "stream",
     "text": [
      "C:\\Users\\eminc\\AppData\\Local\\Temp\\ipykernel_16828\\238758318.py:13: SettingWithCopyWarning: \n",
      "A value is trying to be set on a copy of a slice from a DataFrame.\n",
      "Try using .loc[row_indexer,col_indexer] = value instead\n",
      "\n",
      "See the caveats in the documentation: https://pandas.pydata.org/pandas-docs/stable/user_guide/indexing.html#returning-a-view-versus-a-copy\n",
      "  df_clean[numeric_columns] = scaled_features\n"
     ]
    }
   ],
   "execution_count": 15
  },
  {
   "metadata": {},
   "cell_type": "markdown",
   "source": "Adım 5: Modelleme",
   "id": "527893a41b1feb1d"
  },
  {
   "metadata": {
    "ExecuteTime": {
     "end_time": "2024-10-01T11:53:23.623567Z",
     "start_time": "2024-10-01T11:53:22.620279Z"
    }
   },
   "cell_type": "code",
   "source": [
    "from sklearn.model_selection import train_test_split\n",
    "from sklearn.neighbors import KNeighborsClassifier\n",
    "from sklearn.metrics import accuracy_score, confusion_matrix, classification_report\n",
    "\n",
    "# Hedef ve özellikleri ayıralım\n",
    "X = df_clean.drop(columns=['Class'])  # 'Class' sütunu hedef (fraud/non-fraud)\n",
    "y = df_clean['Class']\n"
   ],
   "id": "7ef4960da54ff5e9",
   "outputs": [],
   "execution_count": 17
  },
  {
   "metadata": {
    "ExecuteTime": {
     "end_time": "2024-10-01T11:54:14.688637Z",
     "start_time": "2024-10-01T11:53:25.925926Z"
    }
   },
   "cell_type": "code",
   "source": [
    "\n",
    "# Veriyi eğitim ve test setlerine bölelim\n",
    "X_train, X_test, y_train, y_test = train_test_split(X, y, test_size=0.3, random_state=42)\n",
    "\n",
    "# K-NN modelini oluşturalım\n",
    "knn = KNeighborsClassifier(n_neighbors=5)\n",
    "knn.fit(X_train, y_train)\n",
    "\n",
    "# Test verisi üzerinde tahmin yapalım\n",
    "y_pred = knn.predict(X_test)\n",
    "\n",
    "# Model performansını değerlendirelim\n",
    "print(f\"Doğruluk Skoru: {accuracy_score(y_test, y_pred)}\")\n",
    "print(\"Confusion Matrix:\")\n",
    "print(confusion_matrix(y_test, y_pred))\n",
    "print(\"Classification Report:\")\n",
    "print(classification_report(y_test, y_pred))\n"
   ],
   "id": "8b977584a2ffeb2b",
   "outputs": [
    {
     "name": "stdout",
     "output_type": "stream",
     "text": [
      "Doğruluk Skoru: 0.9993572346807599\n",
      "Confusion Matrix:\n",
      "[[63355    56]\n",
      " [    7 34596]]\n",
      "Classification Report:\n",
      "              precision    recall  f1-score   support\n",
      "\n",
      "         0.0       1.00      1.00      1.00     63411\n",
      "         1.0       1.00      1.00      1.00     34603\n",
      "\n",
      "    accuracy                           1.00     98014\n",
      "   macro avg       1.00      1.00      1.00     98014\n",
      "weighted avg       1.00      1.00      1.00     98014\n",
      "\n"
     ]
    }
   ],
   "execution_count": 18
  },
  {
   "metadata": {},
   "cell_type": "markdown",
   "source": "Adım 6: Sonuçların Analizi ve Görselleştirme",
   "id": "31cda1971d233bc3"
  },
  {
   "metadata": {
    "ExecuteTime": {
     "end_time": "2024-10-01T11:55:43.880362Z",
     "start_time": "2024-10-01T11:54:54.021512Z"
    }
   },
   "cell_type": "code",
   "source": [
    "from sklearn.metrics import roc_curve, auc\n",
    "\n",
    "# Confusion Matrix'in görselleştirilmesi\n",
    "sns.heatmap(confusion_matrix(y_test, y_pred), annot=True, fmt=\"d\", cmap=\"Blues\")\n",
    "plt.title(\"Confusion Matrix\")\n",
    "plt.xlabel(\"Predicted\")\n",
    "plt.ylabel(\"Actual\")\n",
    "plt.show()\n",
    "\n",
    "# ROC Eğrisi ve AUC\n",
    "fpr, tpr, thresholds = roc_curve(y_test, knn.predict_proba(X_test)[:,1])\n",
    "roc_auc = auc(fpr, tpr)\n",
    "\n",
    "plt.figure()\n",
    "plt.plot(fpr, tpr, color='darkorange', lw=2, label=f'ROC curve (area = {roc_auc:.2f})')\n",
    "plt.plot([0, 1], [0, 1], color='navy', lw=2, linestyle='--')\n",
    "plt.xlim([0.0, 1.0])\n",
    "plt.ylim([0.0, 1.05])\n",
    "plt.xlabel('False Positive Rate')\n",
    "plt.ylabel('True Positive Rate')\n",
    "plt.title('Receiver Operating Characteristic')\n",
    "plt.legend(loc=\"lower right\")\n",
    "plt.show()\n"
   ],
   "id": "d98918fc6b69a58d",
   "outputs": [
    {
     "data": {
      "text/plain": [
       "<Figure size 640x480 with 2 Axes>"
      ],
      "image/png": "[encoded data removed]"
     },
     "metadata": {},
     "output_type": "display_data"
    },
    {
     "data": {
      "text/plain": [
       "<Figure size 640x480 with 1 Axes>"
      ],
      "image/png": "[encoded data removed]"
     },
     "metadata": {},
     "output_type": "display_data"
    }
   ],
   "execution_count": 19
  }
 ],
 "metadata": {
  "kernelspec": {
   "display_name": "Python 3",
   "language": "python",
   "name": "python3"
  },
  "language_info": {
   "codemirror_mode": {
    "name": "ipython",
    "version": 2
   },
   "file_extension": ".py",
   "mimetype": "text/x-python",
   "name": "python",
   "nbconvert_exporter": "python",
   "pygments_lexer": "ipython2",
   "version": "2.7.6"
  }
 },
 "nbformat": 4,
 "nbformat_minor": 5
}
