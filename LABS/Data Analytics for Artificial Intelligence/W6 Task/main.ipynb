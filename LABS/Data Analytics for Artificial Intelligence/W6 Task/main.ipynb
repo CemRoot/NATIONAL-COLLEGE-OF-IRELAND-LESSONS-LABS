{
 "cells": [
  {
   "metadata": {},
   "cell_type": "markdown",
   "source": [
    "### Question 1\n",
    "* (i) Read the datafile.csv into a NumPy array"
   ],
   "id": "e44d4c4d6709190c"
  },
  {
   "cell_type": "code",
   "id": "initial_id",
   "metadata": {
    "collapsed": true,
    "ExecuteTime": {
     "end_time": "2024-10-22T10:42:51.174408Z",
     "start_time": "2024-10-22T10:42:50.934294Z"
    }
   },
   "source": [
    "import numpy as np\n",
    "\n",
    "# Read the CSV file into a NumPy array\n",
    "data = np.genfromtxt('datafile.csv', delimiter=',', skip_header=1)"
   ],
   "outputs": [],
   "execution_count": 9
  },
  {
   "metadata": {
    "ExecuteTime": {
     "end_time": "2024-10-22T10:43:47.739897Z",
     "start_time": "2024-10-22T10:43:44.895986Z"
    }
   },
   "cell_type": "code",
   "source": [
    "# (ii) Build a basic kNN classifier model using Scikit Learn and assess its classification accuracy\n",
    "from sklearn.model_selection import train_test_split\n",
    "from sklearn.neighbors import KNeighborsClassifier\n",
    "from sklearn.metrics import accuracy_score\n",
    "\n",
    "# Assuming the last column is the target variable\n",
    "X = data[:, :-1]\n",
    "y = data[:, -1]\n",
    "\n",
    "# Split the data into training and testing sets\n",
    "X_train, X_test, y_train, y_test = train_test_split(X, y, test_size=0.2, random_state=42)\n",
    "\n",
    "# Initialize the kNN classifier with k=3 \n",
    "knn = KNeighborsClassifier(n_neighbors=3)\n",
    "\n",
    "# Fit the model\n",
    "knn.fit(X_train, y_train)\n",
    "\n",
    "# Predict on the test set\n",
    "y_pred = knn.predict(X_test)\n",
    "\n",
    "# Assess the classification accuracy\n",
    "accuracy = accuracy_score(y_test, y_pred)\n",
    "print(f'Classification Accuracy: {accuracy:.2f}')"
   ],
   "id": "916b78e74363159a",
   "outputs": [
    {
     "name": "stdout",
     "output_type": "stream",
     "text": [
      "Classification Accuracy: 0.87\n"
     ]
    }
   ],
   "execution_count": 10
  },
  {
   "metadata": {},
   "cell_type": "markdown",
   "source": [
    "### Question 2\n",
    "* (i) Read the Cancer dataset into a NumPy array"
   ],
   "id": "2b735e17d7db7160"
  },
  {
   "metadata": {
    "ExecuteTime": {
     "end_time": "2024-10-22T10:54:42.678798Z",
     "start_time": "2024-10-22T10:54:42.644345Z"
    }
   },
   "cell_type": "code",
   "source": [
    "# Read the Cancer training and testing datasets into NumPy arrays\n",
    "cancer_train_data = np.genfromtxt('cancerTrain.csv', delimiter=',', skip_header=1)\n",
    "cancer_test_data = np.genfromtxt('cancerTest.csv', delimiter=',', skip_header=1)\n",
    "\n",
    "# Assuming the last column is the target variable\n",
    "X_train_cancer = cancer_train_data[:, :-1]\n",
    "y_train_cancer = cancer_train_data[:, -1] \n",
    "X_test_cancer = cancer_test_data[:, :-1]\n",
    "y_test_cancer = cancer_test_data[:, -1]\n",
    "\n",
    "# Initialize the kNN classifier with k=1\n",
    "knn_cancer = KNeighborsClassifier(n_neighbors=1)\n",
    "\n",
    "# Fit the model\n",
    "knn_cancer.fit(X_train_cancer, y_train_cancer)\n",
    "\n",
    "# Predict on the test set\n",
    "y_pred_cancer = knn_cancer.predict(X_test_cancer)\n",
    "\n",
    "# Assess the classification accuracy\n",
    "accuracy_cancer = accuracy_score(y_test_cancer, y_pred_cancer)\n",
    "print(f'Cancer Dataset Classification Accuracy (k=1): {accuracy_cancer:.2f}')"
   ],
   "id": "6dc7d217c59dbfe8",
   "outputs": [
    {
     "name": "stdout",
     "output_type": "stream",
     "text": [
      "Cancer Dataset Classification Accuracy (k=1): 0.72\n"
     ]
    }
   ],
   "execution_count": 15
  }
 ],
 "metadata": {
  "kernelspec": {
   "display_name": "Python 3",
   "language": "python",
   "name": "python3"
  },
  "language_info": {
   "codemirror_mode": {
    "name": "ipython",
    "version": 2
   },
   "file_extension": ".py",
   "mimetype": "text/x-python",
   "name": "python",
   "nbconvert_exporter": "python",
   "pygments_lexer": "ipython2",
   "version": "2.7.6"
  }
 },
 "nbformat": 4,
 "nbformat_minor": 5
}
