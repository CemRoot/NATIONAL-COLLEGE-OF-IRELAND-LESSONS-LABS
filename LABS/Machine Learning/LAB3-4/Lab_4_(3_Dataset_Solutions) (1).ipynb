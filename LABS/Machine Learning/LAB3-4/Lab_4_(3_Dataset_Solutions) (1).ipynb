{
 "nbformat": 4,
 "nbformat_minor": 0,
 "metadata": {
  "colab": {
   "provenance": []
  },
  "kernelspec": {
   "name": "python3",
   "display_name": "Python 3"
  },
  "language_info": {
   "name": "python"
  }
 },
 "cells": [
  {
   "cell_type": "markdown",
   "source": [
    "**Task:** Fake News Detection\n",
    "\n",
    "**Ensemble:**\n",
    "\n",
    "**Features:** BoW and TF-IDF\n",
    "\n",
    "**Split:**  80:20\n",
    "\n",
    "**Base Learners:** Logistic Regression, Naive Bayes, Support Vector Machines (SVM)\n",
    "Ensemble Method: Voting Classifier (Hard or Soft voting)\n",
    "\n",
    "**Example:** Combine predictions from Logistic Regression, Naive Bayes, and SVM to classify fake news."
   ],
   "metadata": {
    "id": "3ymiKjXPZke9"
   }
  },
  {
   "source": [
    "    import pandas as pd\n",
    "    from sklearn.model_selection import train_test_split\n",
    "    from sklearn.feature_extraction.text import TfidfVectorizer, CountVectorizer\n",
    "    from sklearn.linear_model import LogisticRegression\n",
    "    from sklearn.naive_bayes import MultinomialNB\n",
    "    from sklearn.svm import SVC\n",
    "    from sklearn.ensemble import VotingClassifier\n",
    "    from sklearn.metrics import accuracy_score"
   ],
   "cell_type": "code",
   "metadata": {
    "id": "vuJAWTQ7bPTd"
   },
   "execution_count": null,
   "outputs": []
  },
  {
   "source": [
    "    data = pd.read_csv('your_data.csv')\n",
    "    X = data['text']\n",
    "    y = data['label']"
   ],
   "cell_type": "code",
   "metadata": {
    "id": "qv8t_YIabQ5a"
   },
   "execution_count": null,
   "outputs": []
  },
  {
   "source": [
    "    tfidf_vectorizer = TfidfVectorizer()\n",
    "    bow_vectorizer = CountVectorizer()\n",
    "    X_tfidf = tfidf_vectorizer.fit_transform(X)\n",
    "    X_bow = bow_vectorizer.fit_transform(X)"
   ],
   "cell_type": "code",
   "metadata": {
    "id": "9F6mPp9LbSTn"
   },
   "execution_count": null,
   "outputs": []
  },
  {
   "source": [
    "    X_train_tfidf, X_test_tfidf, y_train, y_test = train_test_split(X_tfidf, y, test_size=0.2, random_state=42)\n",
    "    X_train_bow, X_test_bow, _, _ = train_test_split(X_bow, y, test_size=0.2, random_state=42)"
   ],
   "cell_type": "code",
   "metadata": {
    "id": "dHf1qlzcbT_8"
   },
   "execution_count": null,
   "outputs": []
  },
  {
   "metadata": {},
   "cell_type": "code",
   "outputs": [],
   "execution_count": null,
   "source": ""
  },
  {
   "source": [
    "    lr = LogisticRegression()\n",
    "    nb = MultinomialNB()\n",
    "    svm = SVC()"
   ],
   "cell_type": "code",
   "metadata": {
    "id": "CWE24F6XbX7z"
   },
   "execution_count": null,
   "outputs": []
  },
  {
   "source": [
    "    # Hard Voting\n",
    "    ensemble_hard = VotingClassifier(estimators=[('lr', lr), ('nb', nb), ('svm', svm)], voting='hard')\n",
    "    ensemble_hard.fit(X_train_tfidf, y_train)\n",
    "\n",
    "    # Soft Voting (requires probability estimates from base learners)\n",
    "    lr_soft = LogisticRegression(probability=True)\n",
    "    nb_soft = MultinomialNB()  # MultinomialNB inherently provides probabilities\n",
    "    svm_soft = SVC(probability=True)\n",
    "    ensemble_soft = VotingClassifier(estimators=[('lr', lr_soft), ('nb', nb_soft), ('svm', svm_soft)], voting='soft')\n",
    "    ensemble_soft.fit(X_train_tfidf, y_train)"
   ],
   "cell_type": "code",
   "metadata": {
    "id": "JF7ctC9-bYuB"
   },
   "execution_count": null,
   "outputs": []
  },
  {
   "source": [
    "    y_pred_hard = ensemble_hard.predict(X_test_tfidf)\n",
    "    y_pred_soft = ensemble_soft.predict(X_test_tfidf)\n",
    "    accuracy_hard = accuracy_score(y_test, y_pred_hard)\n",
    "    accuracy_soft = accuracy_score(y_test, y_pred_soft)\n",
    "    print(f\"Hard Voting Accuracy: {accuracy_hard}\")\n",
    "    print(f\"Soft Voting Accuracy: {accuracy_soft}\")"
   ],
   "cell_type": "code",
   "metadata": {
    "id": "SIGcFtvwbbL0"
   },
   "execution_count": null,
   "outputs": []
  },
  {
   "cell_type": "code",
   "source": [],
   "metadata": {
    "id": "rd-hr7LiZHvk"
   },
   "execution_count": null,
   "outputs": []
  },
  {
   "cell_type": "markdown",
   "source": [
    "**Task:** Blood Cell Image Classification\n",
    "\n",
    "**Ensemble:**\n",
    "\n",
    "**Features:** Convert into 1D\n",
    "\n",
    "**Split:**  80:20\n",
    "\n",
    "**Base Learners:** RF, KNN, DT\n",
    "Ensemble Method: Voting Classifier (Hard or Soft voting)\n",
    "\n",
    "**Example:** RF, KNN, DT combine to classify blood cell images."
   ],
   "metadata": {
    "id": "nWUoW2PMaDe5"
   }
  },
  {
   "source": [
    "    import numpy as np\n",
    "    import pandas as pd\n",
    "    from sklearn.model_selection import train_test_split\n",
    "    from sklearn.ensemble import RandomForestClassifier, VotingClassifier\n",
    "    from sklearn.neighbors import KNeighborsClassifier\n",
    "    from sklearn.tree import DecisionTreeClassifier\n",
    "    from sklearn.metrics import accuracy_score\n",
    "    # Add image processing libraries like OpenCV if needed: import cv2"
   ],
   "cell_type": "code",
   "metadata": {
    "id": "rCjSVLo2bc_G"
   },
   "execution_count": null,
   "outputs": []
  },
  {
   "source": [
    "import os\n",
    "import numpy as np\n",
    "import pandas as pd\n",
    "from sklearn.model_selection import train_test_split\n",
    "from sklearn.ensemble import RandomForestClassifier, VotingClassifier\n",
    "from sklearn.neighbors import KNeighborsClassifier\n",
    "from sklearn.tree import DecisionTreeClassifier\n",
    "from sklearn.metrics import accuracy_score\n",
    "import cv2  # Make sure you have OpenCV installed: !pip install opencv-python\n",
    "\n",
    "# Define the path to your image folder\n",
    "image_folder = 'path/to/your/image/folder'\n",
    "\n",
    "# Create lists to store image data and labels\n",
    "X = []\n",
    "y = []\n",
    "\n",
    "# Iterate through class folders\n",
    "for class_name in os.listdir(image_folder):\n",
    "    class_folder = os.path.join(image_folder, class_name)\n",
    "    if os.path.isdir(class_folder):\n",
    "        # Iterate through images in the class folder\n",
    "        for image_name in os.listdir(class_folder):\n",
    "            image_path = os.path.join(class_folder, image_name)\n",
    "            # Load and preprocess the image (e.g., resize, convert to grayscale)\n",
    "            img = cv2.imread(image_path, cv2.IMREAD_GRAYSCALE)\n",
    "            img_resized = cv2.resize(img, (64, 64))  # Example resizing\n",
    "            img_flat = img_resized.flatten()\n",
    "            # Append the image data and label to the lists\n",
    "            X.append(img_flat)\n",
    "            y.append(class_name)  # Use folder name as the label\n",
    "\n",
    "# Convert lists to NumPy arrays\n",
    "X = np.array(X)\n",
    "y = np.array(y)\n"
   ],
   "cell_type": "code",
   "metadata": {
    "id": "4szo4y_ebdoz"
   },
   "execution_count": null,
   "outputs": []
  },
  {
   "source": [
    "X_train, X_test, y_train, y_test = train_test_split(X, y, test_size=0.2, random_state=42)"
   ],
   "cell_type": "code",
   "metadata": {
    "id": "SORRkN6HbefO"
   },
   "execution_count": null,
   "outputs": []
  },
  {
   "source": [
    "    rf = RandomForestClassifier()\n",
    "    knn = KNeighborsClassifier()\n",
    "    dt = DecisionTreeClassifier()"
   ],
   "cell_type": "code",
   "metadata": {
    "id": "nqdpOCC4bfC0"
   },
   "execution_count": null,
   "outputs": []
  },
  {
   "source": [
    "    ensemble = VotingClassifier(estimators=[('rf', rf), ('knn', knn), ('dt', dt)], voting='hard')  # Or 'soft'\n",
    "    ensemble.fit(X_train, y_train)"
   ],
   "cell_type": "code",
   "metadata": {
    "id": "dyHh6lEpbfWz"
   },
   "execution_count": null,
   "outputs": []
  },
  {
   "source": [
    "    y_pred = ensemble.predict(X_test)\n",
    "    accuracy = accuracy_score(y_test, y_pred)\n",
    "    print(f\"Ensemble Accuracy: {accuracy}\")"
   ],
   "cell_type": "code",
   "metadata": {
    "id": "4IUqV24TbihT"
   },
   "execution_count": null,
   "outputs": []
  },
  {
   "cell_type": "code",
   "source": [],
   "metadata": {
    "id": "l51IjjoraWGW"
   },
   "execution_count": null,
   "outputs": []
  },
  {
   "cell_type": "markdown",
   "source": [
    "**Task:** Audio Data Classification (Patient Health)\n",
    "\n",
    "**Ensemble:**\n",
    "\n",
    "**Features:** Use MFCC Features\n",
    "\n",
    "**Split:**  80:20\n",
    "\n",
    "**Base Learners:** RF, SVM, LR\n",
    "Ensemble Method: Voting Classifier (Hard or Soft voting)\n",
    "\n",
    "**Example:** RF, KNN, DT combine to classify blood cell images."
   ],
   "metadata": {
    "id": "0BRy9UFPaDlI"
   }
  },
  {
   "source": [
    "    import librosa\n",
    "    import librosa.display\n",
    "    import numpy as np\n",
    "    import pandas as pd\n",
    "    from sklearn.model_selection import train_test_split\n",
    "    from sklearn.ensemble import RandomForestClassifier, VotingClassifier\n",
    "    from sklearn.svm import SVC\n",
    "    from sklearn.linear_model import LogisticRegression\n",
    "    from sklearn.metrics import accuracy_score"
   ],
   "cell_type": "code",
   "metadata": {
    "id": "_ZwRZyGublmU"
   },
   "execution_count": null,
   "outputs": []
  },
  {
   "source": [
    "    data = pd.read_csv('your_audio_data.csv')\n",
    "    X = []\n",
    "    y = data['label']\n",
    "\n",
    "    for audio_path in data['audio_path']:\n",
    "        # Load audio file\n",
    "        signal, sr = librosa.load(audio_path)\n",
    "        # Extract MFCCs\n",
    "        mfccs = librosa.feature.mfcc(y=signal, sr=sr, n_mfcc=13)\n",
    "        mfccs_scaled = np.mean(mfccs.T, axis=0)\n",
    "        X.append(mfccs_scaled)\n",
    "\n",
    "    X = np.array(X)"
   ],
   "cell_type": "code",
   "metadata": {
    "id": "JnBoEoajbmZ4"
   },
   "execution_count": null,
   "outputs": []
  },
  {
   "source": [
    "X_train, X_test, y_train, y_test = train_test_split(X, y, test_size=0.2, random_state=42)"
   ],
   "cell_type": "code",
   "metadata": {
    "id": "eDFmki-tbm19"
   },
   "execution_count": null,
   "outputs": []
  },
  {
   "source": [
    "    rf = RandomForestClassifier()\n",
    "    svm = SVC()\n",
    "    lr = LogisticRegression()"
   ],
   "cell_type": "code",
   "metadata": {
    "id": "YKkPgZJTbnfb"
   },
   "execution_count": null,
   "outputs": []
  },
  {
   "source": [
    "    ensemble = VotingClassifier(estimators=[('rf', rf), ('svm', svm), ('lr', lr)], voting='hard')  # Or 'soft'\n",
    "    ensemble.fit(X_train, y_train)"
   ],
   "cell_type": "code",
   "metadata": {
    "id": "2tnWB_uubokD"
   },
   "execution_count": null,
   "outputs": []
  },
  {
   "source": [
    "    y_pred = ensemble.predict(X_test)\n",
    "    accuracy = accuracy_score(y_test, y_pred)\n",
    "    print(f\"Ensemble Accuracy: {accuracy}\")"
   ],
   "cell_type": "code",
   "metadata": {
    "id": "CTL64WLzbpJP"
   },
   "execution_count": null,
   "outputs": []
  }
 ]
}
