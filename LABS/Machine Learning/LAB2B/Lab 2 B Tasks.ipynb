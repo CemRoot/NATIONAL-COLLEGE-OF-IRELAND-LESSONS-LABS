{
 "cells": [
  {
   "cell_type": "markdown",
   "id": "dd9f2351",
   "metadata": {},
   "source": [
    "# Deploy KNN with all these distance matrics and select the best for further processing 'euclidean', 'manhattan', 'chebyshev', 'minkowski'"
   ]
  },
  {
   "cell_type": "code",
   "execution_count": null,
   "id": "8bc1c88f",
   "metadata": {},
   "outputs": [],
   "source": []
  },
  {
   "cell_type": "markdown",
   "id": "211812ae",
   "metadata": {},
   "source": [
    "# Now select the best metric accroding above results and use it with different K values '3, 5, 7, 9'"
   ]
  },
  {
   "cell_type": "code",
   "execution_count": null,
   "id": "ff4c2dca",
   "metadata": {},
   "outputs": [],
   "source": []
  },
  {
   "cell_type": "markdown",
   "id": "cba7d37b",
   "metadata": {},
   "source": [
    "# Plot a line graph show impact of K value on accuracy"
   ]
  },
  {
   "cell_type": "code",
   "execution_count": null,
   "id": "9164f5f5",
   "metadata": {},
   "outputs": [],
   "source": []
  },
  {
   "cell_type": "markdown",
   "id": "23fa6088",
   "metadata": {},
   "source": [
    "# Now select the best K value and best metric accroding above results and use it with different searching algorithm and select the best approach in terms of training and prediciton time 'algorithms = ['auto', 'ball_tree', 'kd_tree', 'brute']'"
   ]
  },
  {
   "cell_type": "code",
   "execution_count": null,
   "id": "f3284e09",
   "metadata": {},
   "outputs": [],
   "source": []
  },
  {
   "cell_type": "markdown",
   "id": "b2e43899",
   "metadata": {},
   "source": [
    "# Deploy Linear Regression For Concrete_Data and deploy it without any paramters"
   ]
  },
  {
   "cell_type": "code",
   "execution_count": null,
   "id": "dabcebff",
   "metadata": {},
   "outputs": [],
   "source": []
  },
  {
   "cell_type": "markdown",
   "id": "25d43b62",
   "metadata": {},
   "source": [
    "# Show Cofficinet of LR"
   ]
  },
  {
   "cell_type": "code",
   "execution_count": null,
   "id": "d6b85f9d",
   "metadata": {},
   "outputs": [],
   "source": []
  },
  {
   "cell_type": "markdown",
   "id": "9f0958e2",
   "metadata": {},
   "source": [
    "# Show Intercept of LR"
   ]
  },
  {
   "cell_type": "code",
   "execution_count": null,
   "id": "871e5d1e",
   "metadata": {},
   "outputs": [],
   "source": []
  },
  {
   "cell_type": "markdown",
   "id": "15a637c2",
   "metadata": {},
   "source": [
    "# Deploy it with fit_intercept=False, normalize=True, n_jobs=1"
   ]
  },
  {
   "cell_type": "code",
   "execution_count": null,
   "id": "bba6181b",
   "metadata": {},
   "outputs": [],
   "source": []
  },
  {
   "cell_type": "markdown",
   "id": "cccbf38a",
   "metadata": {},
   "source": [
    "# Deploy it with fit_intercept=False, normalize=False, n_jobs=1"
   ]
  },
  {
   "cell_type": "code",
   "execution_count": null,
   "id": "ba8e99d5",
   "metadata": {},
   "outputs": [],
   "source": []
  }
 ],
 "metadata": {
  "kernelspec": {
   "display_name": "Python 3 (ipykernel)",
   "language": "python",
   "name": "python3"
  },
  "language_info": {
   "codemirror_mode": {
    "name": "ipython",
    "version": 3
   },
   "file_extension": ".py",
   "mimetype": "text/x-python",
   "name": "python",
   "nbconvert_exporter": "python",
   "pygments_lexer": "ipython3",
   "version": "3.9.13"
  }
 },
 "nbformat": 4,
 "nbformat_minor": 5
}
